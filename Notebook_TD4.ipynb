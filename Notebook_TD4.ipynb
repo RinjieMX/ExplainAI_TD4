{
 "cells": [
  {
   "cell_type": "markdown",
   "id": "9f626839",
   "metadata": {},
   "source": [
    "# TD4 - Explainability AI\n",
    "\n",
    "#### Matias OTTENSEN\n",
    "#### Tiphaine KACHKACHI\n",
    "#### Manon GARDIN\n",
    "\n",
    "# Our dataset \n",
    "\n",
    "Petite description du dataset"
   ]
  },
  {
   "cell_type": "code",
   "execution_count": 1,
   "id": "d0540425",
   "metadata": {},
   "outputs": [],
   "source": [
    "import pandas as pd\n",
    "import numpy as np\n",
    "import matplotlib.pyplot as plt\n",
    "import seaborn as sns\n",
    "from datetime import datetime\n",
    "import sklearn\n",
    "from sklearn.datasets import load_diabetes"
   ]
  },
  {
   "cell_type": "code",
   "execution_count": 2,
   "id": "9792d488",
   "metadata": {},
   "outputs": [],
   "source": [
    "df = pd.read_csv('archive/US_Accidents_March23.csv', sep=',')"
   ]
  },
  {
   "cell_type": "markdown",
   "id": "bf0a4042",
   "metadata": {},
   "source": []
  },
  {
   "cell_type": "markdown",
   "id": "2c0f8785",
   "metadata": {},
   "source": [
    "## Observe data"
   ]
  },
  {
   "cell_type": "code",
   "execution_count": 3,
   "id": "9944bc60",
   "metadata": {
    "scrolled": true
   },
   "outputs": [
    {
     "data": {
      "text/plain": [
       "(7728394, 46)"
      ]
     },
     "execution_count": 3,
     "metadata": {},
     "output_type": "execute_result"
    }
   ],
   "source": [
    "df.shape"
   ]
  },
  {
   "cell_type": "markdown",
   "id": "2f5de6ab",
   "metadata": {},
   "source": [
    "We have a great number of lines in our dataset.\\\n",
    "Also we have 46 columns, we probably won't need every one of them. Let's see their name :"
   ]
  },
  {
   "cell_type": "code",
   "execution_count": 4,
   "id": "9cff7c8e",
   "metadata": {
    "scrolled": true
   },
   "outputs": [
    {
     "data": {
      "text/plain": [
       "Index(['ID', 'Source', 'Severity', 'Start_Time', 'End_Time', 'Start_Lat',\n",
       "       'Start_Lng', 'End_Lat', 'End_Lng', 'Distance(mi)', 'Description',\n",
       "       'Street', 'City', 'County', 'State', 'Zipcode', 'Country', 'Timezone',\n",
       "       'Airport_Code', 'Weather_Timestamp', 'Temperature(F)', 'Wind_Chill(F)',\n",
       "       'Humidity(%)', 'Pressure(in)', 'Visibility(mi)', 'Wind_Direction',\n",
       "       'Wind_Speed(mph)', 'Precipitation(in)', 'Weather_Condition', 'Amenity',\n",
       "       'Bump', 'Crossing', 'Give_Way', 'Junction', 'No_Exit', 'Railway',\n",
       "       'Roundabout', 'Station', 'Stop', 'Traffic_Calming', 'Traffic_Signal',\n",
       "       'Turning_Loop', 'Sunrise_Sunset', 'Civil_Twilight', 'Nautical_Twilight',\n",
       "       'Astronomical_Twilight'],\n",
       "      dtype='object')"
      ]
     },
     "execution_count": 4,
     "metadata": {},
     "output_type": "execute_result"
    }
   ],
   "source": [
    "df.columns"
   ]
  },
  {
   "cell_type": "code",
   "execution_count": 5,
   "id": "d4a89213",
   "metadata": {},
   "outputs": [
    {
     "data": {
      "text/html": [
       "<div>\n",
       "<style scoped>\n",
       "    .dataframe tbody tr th:only-of-type {\n",
       "        vertical-align: middle;\n",
       "    }\n",
       "\n",
       "    .dataframe tbody tr th {\n",
       "        vertical-align: top;\n",
       "    }\n",
       "\n",
       "    .dataframe thead th {\n",
       "        text-align: right;\n",
       "    }\n",
       "</style>\n",
       "<table border=\"1\" class=\"dataframe\">\n",
       "  <thead>\n",
       "    <tr style=\"text-align: right;\">\n",
       "      <th></th>\n",
       "      <th>ID</th>\n",
       "      <th>Source</th>\n",
       "      <th>Severity</th>\n",
       "      <th>Start_Time</th>\n",
       "      <th>End_Time</th>\n",
       "      <th>Start_Lat</th>\n",
       "      <th>Start_Lng</th>\n",
       "      <th>End_Lat</th>\n",
       "      <th>End_Lng</th>\n",
       "      <th>Distance(mi)</th>\n",
       "      <th>...</th>\n",
       "      <th>Roundabout</th>\n",
       "      <th>Station</th>\n",
       "      <th>Stop</th>\n",
       "      <th>Traffic_Calming</th>\n",
       "      <th>Traffic_Signal</th>\n",
       "      <th>Turning_Loop</th>\n",
       "      <th>Sunrise_Sunset</th>\n",
       "      <th>Civil_Twilight</th>\n",
       "      <th>Nautical_Twilight</th>\n",
       "      <th>Astronomical_Twilight</th>\n",
       "    </tr>\n",
       "  </thead>\n",
       "  <tbody>\n",
       "    <tr>\n",
       "      <th>0</th>\n",
       "      <td>A-1</td>\n",
       "      <td>Source2</td>\n",
       "      <td>3</td>\n",
       "      <td>2016-02-08 05:46:00</td>\n",
       "      <td>2016-02-08 11:00:00</td>\n",
       "      <td>39.865147</td>\n",
       "      <td>-84.058723</td>\n",
       "      <td>NaN</td>\n",
       "      <td>NaN</td>\n",
       "      <td>0.01</td>\n",
       "      <td>...</td>\n",
       "      <td>False</td>\n",
       "      <td>False</td>\n",
       "      <td>False</td>\n",
       "      <td>False</td>\n",
       "      <td>False</td>\n",
       "      <td>False</td>\n",
       "      <td>Night</td>\n",
       "      <td>Night</td>\n",
       "      <td>Night</td>\n",
       "      <td>Night</td>\n",
       "    </tr>\n",
       "    <tr>\n",
       "      <th>1</th>\n",
       "      <td>A-2</td>\n",
       "      <td>Source2</td>\n",
       "      <td>2</td>\n",
       "      <td>2016-02-08 06:07:59</td>\n",
       "      <td>2016-02-08 06:37:59</td>\n",
       "      <td>39.928059</td>\n",
       "      <td>-82.831184</td>\n",
       "      <td>NaN</td>\n",
       "      <td>NaN</td>\n",
       "      <td>0.01</td>\n",
       "      <td>...</td>\n",
       "      <td>False</td>\n",
       "      <td>False</td>\n",
       "      <td>False</td>\n",
       "      <td>False</td>\n",
       "      <td>False</td>\n",
       "      <td>False</td>\n",
       "      <td>Night</td>\n",
       "      <td>Night</td>\n",
       "      <td>Night</td>\n",
       "      <td>Day</td>\n",
       "    </tr>\n",
       "    <tr>\n",
       "      <th>2</th>\n",
       "      <td>A-3</td>\n",
       "      <td>Source2</td>\n",
       "      <td>2</td>\n",
       "      <td>2016-02-08 06:49:27</td>\n",
       "      <td>2016-02-08 07:19:27</td>\n",
       "      <td>39.063148</td>\n",
       "      <td>-84.032608</td>\n",
       "      <td>NaN</td>\n",
       "      <td>NaN</td>\n",
       "      <td>0.01</td>\n",
       "      <td>...</td>\n",
       "      <td>False</td>\n",
       "      <td>False</td>\n",
       "      <td>False</td>\n",
       "      <td>False</td>\n",
       "      <td>True</td>\n",
       "      <td>False</td>\n",
       "      <td>Night</td>\n",
       "      <td>Night</td>\n",
       "      <td>Day</td>\n",
       "      <td>Day</td>\n",
       "    </tr>\n",
       "    <tr>\n",
       "      <th>3</th>\n",
       "      <td>A-4</td>\n",
       "      <td>Source2</td>\n",
       "      <td>3</td>\n",
       "      <td>2016-02-08 07:23:34</td>\n",
       "      <td>2016-02-08 07:53:34</td>\n",
       "      <td>39.747753</td>\n",
       "      <td>-84.205582</td>\n",
       "      <td>NaN</td>\n",
       "      <td>NaN</td>\n",
       "      <td>0.01</td>\n",
       "      <td>...</td>\n",
       "      <td>False</td>\n",
       "      <td>False</td>\n",
       "      <td>False</td>\n",
       "      <td>False</td>\n",
       "      <td>False</td>\n",
       "      <td>False</td>\n",
       "      <td>Night</td>\n",
       "      <td>Day</td>\n",
       "      <td>Day</td>\n",
       "      <td>Day</td>\n",
       "    </tr>\n",
       "    <tr>\n",
       "      <th>4</th>\n",
       "      <td>A-5</td>\n",
       "      <td>Source2</td>\n",
       "      <td>2</td>\n",
       "      <td>2016-02-08 07:39:07</td>\n",
       "      <td>2016-02-08 08:09:07</td>\n",
       "      <td>39.627781</td>\n",
       "      <td>-84.188354</td>\n",
       "      <td>NaN</td>\n",
       "      <td>NaN</td>\n",
       "      <td>0.01</td>\n",
       "      <td>...</td>\n",
       "      <td>False</td>\n",
       "      <td>False</td>\n",
       "      <td>False</td>\n",
       "      <td>False</td>\n",
       "      <td>True</td>\n",
       "      <td>False</td>\n",
       "      <td>Day</td>\n",
       "      <td>Day</td>\n",
       "      <td>Day</td>\n",
       "      <td>Day</td>\n",
       "    </tr>\n",
       "    <tr>\n",
       "      <th>5</th>\n",
       "      <td>A-6</td>\n",
       "      <td>Source2</td>\n",
       "      <td>3</td>\n",
       "      <td>2016-02-08 07:44:26</td>\n",
       "      <td>2016-02-08 08:14:26</td>\n",
       "      <td>40.100590</td>\n",
       "      <td>-82.925194</td>\n",
       "      <td>NaN</td>\n",
       "      <td>NaN</td>\n",
       "      <td>0.01</td>\n",
       "      <td>...</td>\n",
       "      <td>False</td>\n",
       "      <td>False</td>\n",
       "      <td>False</td>\n",
       "      <td>False</td>\n",
       "      <td>False</td>\n",
       "      <td>False</td>\n",
       "      <td>Day</td>\n",
       "      <td>Day</td>\n",
       "      <td>Day</td>\n",
       "      <td>Day</td>\n",
       "    </tr>\n",
       "    <tr>\n",
       "      <th>6</th>\n",
       "      <td>A-7</td>\n",
       "      <td>Source2</td>\n",
       "      <td>2</td>\n",
       "      <td>2016-02-08 07:59:35</td>\n",
       "      <td>2016-02-08 08:29:35</td>\n",
       "      <td>39.758274</td>\n",
       "      <td>-84.230507</td>\n",
       "      <td>NaN</td>\n",
       "      <td>NaN</td>\n",
       "      <td>0.00</td>\n",
       "      <td>...</td>\n",
       "      <td>False</td>\n",
       "      <td>False</td>\n",
       "      <td>False</td>\n",
       "      <td>False</td>\n",
       "      <td>False</td>\n",
       "      <td>False</td>\n",
       "      <td>Day</td>\n",
       "      <td>Day</td>\n",
       "      <td>Day</td>\n",
       "      <td>Day</td>\n",
       "    </tr>\n",
       "    <tr>\n",
       "      <th>7</th>\n",
       "      <td>A-8</td>\n",
       "      <td>Source2</td>\n",
       "      <td>3</td>\n",
       "      <td>2016-02-08 07:59:58</td>\n",
       "      <td>2016-02-08 08:29:58</td>\n",
       "      <td>39.770382</td>\n",
       "      <td>-84.194901</td>\n",
       "      <td>NaN</td>\n",
       "      <td>NaN</td>\n",
       "      <td>0.01</td>\n",
       "      <td>...</td>\n",
       "      <td>False</td>\n",
       "      <td>False</td>\n",
       "      <td>False</td>\n",
       "      <td>False</td>\n",
       "      <td>False</td>\n",
       "      <td>False</td>\n",
       "      <td>Day</td>\n",
       "      <td>Day</td>\n",
       "      <td>Day</td>\n",
       "      <td>Day</td>\n",
       "    </tr>\n",
       "    <tr>\n",
       "      <th>8</th>\n",
       "      <td>A-9</td>\n",
       "      <td>Source2</td>\n",
       "      <td>2</td>\n",
       "      <td>2016-02-08 08:00:40</td>\n",
       "      <td>2016-02-08 08:30:40</td>\n",
       "      <td>39.778061</td>\n",
       "      <td>-84.172005</td>\n",
       "      <td>NaN</td>\n",
       "      <td>NaN</td>\n",
       "      <td>0.00</td>\n",
       "      <td>...</td>\n",
       "      <td>False</td>\n",
       "      <td>False</td>\n",
       "      <td>False</td>\n",
       "      <td>False</td>\n",
       "      <td>False</td>\n",
       "      <td>False</td>\n",
       "      <td>Day</td>\n",
       "      <td>Day</td>\n",
       "      <td>Day</td>\n",
       "      <td>Day</td>\n",
       "    </tr>\n",
       "    <tr>\n",
       "      <th>9</th>\n",
       "      <td>A-10</td>\n",
       "      <td>Source2</td>\n",
       "      <td>3</td>\n",
       "      <td>2016-02-08 08:10:04</td>\n",
       "      <td>2016-02-08 08:40:04</td>\n",
       "      <td>40.100590</td>\n",
       "      <td>-82.925194</td>\n",
       "      <td>NaN</td>\n",
       "      <td>NaN</td>\n",
       "      <td>0.01</td>\n",
       "      <td>...</td>\n",
       "      <td>False</td>\n",
       "      <td>False</td>\n",
       "      <td>False</td>\n",
       "      <td>False</td>\n",
       "      <td>False</td>\n",
       "      <td>False</td>\n",
       "      <td>Day</td>\n",
       "      <td>Day</td>\n",
       "      <td>Day</td>\n",
       "      <td>Day</td>\n",
       "    </tr>\n",
       "  </tbody>\n",
       "</table>\n",
       "<p>10 rows × 46 columns</p>\n",
       "</div>"
      ],
      "text/plain": [
       "     ID   Source  Severity           Start_Time             End_Time  \\\n",
       "0   A-1  Source2         3  2016-02-08 05:46:00  2016-02-08 11:00:00   \n",
       "1   A-2  Source2         2  2016-02-08 06:07:59  2016-02-08 06:37:59   \n",
       "2   A-3  Source2         2  2016-02-08 06:49:27  2016-02-08 07:19:27   \n",
       "3   A-4  Source2         3  2016-02-08 07:23:34  2016-02-08 07:53:34   \n",
       "4   A-5  Source2         2  2016-02-08 07:39:07  2016-02-08 08:09:07   \n",
       "5   A-6  Source2         3  2016-02-08 07:44:26  2016-02-08 08:14:26   \n",
       "6   A-7  Source2         2  2016-02-08 07:59:35  2016-02-08 08:29:35   \n",
       "7   A-8  Source2         3  2016-02-08 07:59:58  2016-02-08 08:29:58   \n",
       "8   A-9  Source2         2  2016-02-08 08:00:40  2016-02-08 08:30:40   \n",
       "9  A-10  Source2         3  2016-02-08 08:10:04  2016-02-08 08:40:04   \n",
       "\n",
       "   Start_Lat  Start_Lng  End_Lat  End_Lng  Distance(mi)  ... Roundabout  \\\n",
       "0  39.865147 -84.058723      NaN      NaN          0.01  ...      False   \n",
       "1  39.928059 -82.831184      NaN      NaN          0.01  ...      False   \n",
       "2  39.063148 -84.032608      NaN      NaN          0.01  ...      False   \n",
       "3  39.747753 -84.205582      NaN      NaN          0.01  ...      False   \n",
       "4  39.627781 -84.188354      NaN      NaN          0.01  ...      False   \n",
       "5  40.100590 -82.925194      NaN      NaN          0.01  ...      False   \n",
       "6  39.758274 -84.230507      NaN      NaN          0.00  ...      False   \n",
       "7  39.770382 -84.194901      NaN      NaN          0.01  ...      False   \n",
       "8  39.778061 -84.172005      NaN      NaN          0.00  ...      False   \n",
       "9  40.100590 -82.925194      NaN      NaN          0.01  ...      False   \n",
       "\n",
       "  Station   Stop Traffic_Calming Traffic_Signal Turning_Loop Sunrise_Sunset  \\\n",
       "0   False  False           False          False        False          Night   \n",
       "1   False  False           False          False        False          Night   \n",
       "2   False  False           False           True        False          Night   \n",
       "3   False  False           False          False        False          Night   \n",
       "4   False  False           False           True        False            Day   \n",
       "5   False  False           False          False        False            Day   \n",
       "6   False  False           False          False        False            Day   \n",
       "7   False  False           False          False        False            Day   \n",
       "8   False  False           False          False        False            Day   \n",
       "9   False  False           False          False        False            Day   \n",
       "\n",
       "  Civil_Twilight Nautical_Twilight Astronomical_Twilight  \n",
       "0          Night             Night                 Night  \n",
       "1          Night             Night                   Day  \n",
       "2          Night               Day                   Day  \n",
       "3            Day               Day                   Day  \n",
       "4            Day               Day                   Day  \n",
       "5            Day               Day                   Day  \n",
       "6            Day               Day                   Day  \n",
       "7            Day               Day                   Day  \n",
       "8            Day               Day                   Day  \n",
       "9            Day               Day                   Day  \n",
       "\n",
       "[10 rows x 46 columns]"
      ]
     },
     "execution_count": 5,
     "metadata": {},
     "output_type": "execute_result"
    }
   ],
   "source": [
    "df.head(10)"
   ]
  },
  {
   "cell_type": "code",
   "execution_count": 6,
   "id": "ce8330b2",
   "metadata": {},
   "outputs": [
    {
     "name": "stdout",
     "output_type": "stream",
     "text": [
      "<class 'pandas.core.frame.DataFrame'>\n",
      "RangeIndex: 7728394 entries, 0 to 7728393\n",
      "Data columns (total 46 columns):\n",
      " #   Column                 Dtype  \n",
      "---  ------                 -----  \n",
      " 0   ID                     object \n",
      " 1   Source                 object \n",
      " 2   Severity               int64  \n",
      " 3   Start_Time             object \n",
      " 4   End_Time               object \n",
      " 5   Start_Lat              float64\n",
      " 6   Start_Lng              float64\n",
      " 7   End_Lat                float64\n",
      " 8   End_Lng                float64\n",
      " 9   Distance(mi)           float64\n",
      " 10  Description            object \n",
      " 11  Street                 object \n",
      " 12  City                   object \n",
      " 13  County                 object \n",
      " 14  State                  object \n",
      " 15  Zipcode                object \n",
      " 16  Country                object \n",
      " 17  Timezone               object \n",
      " 18  Airport_Code           object \n",
      " 19  Weather_Timestamp      object \n",
      " 20  Temperature(F)         float64\n",
      " 21  Wind_Chill(F)          float64\n",
      " 22  Humidity(%)            float64\n",
      " 23  Pressure(in)           float64\n",
      " 24  Visibility(mi)         float64\n",
      " 25  Wind_Direction         object \n",
      " 26  Wind_Speed(mph)        float64\n",
      " 27  Precipitation(in)      float64\n",
      " 28  Weather_Condition      object \n",
      " 29  Amenity                bool   \n",
      " 30  Bump                   bool   \n",
      " 31  Crossing               bool   \n",
      " 32  Give_Way               bool   \n",
      " 33  Junction               bool   \n",
      " 34  No_Exit                bool   \n",
      " 35  Railway                bool   \n",
      " 36  Roundabout             bool   \n",
      " 37  Station                bool   \n",
      " 38  Stop                   bool   \n",
      " 39  Traffic_Calming        bool   \n",
      " 40  Traffic_Signal         bool   \n",
      " 41  Turning_Loop           bool   \n",
      " 42  Sunrise_Sunset         object \n",
      " 43  Civil_Twilight         object \n",
      " 44  Nautical_Twilight      object \n",
      " 45  Astronomical_Twilight  object \n",
      "dtypes: bool(13), float64(12), int64(1), object(20)\n",
      "memory usage: 2.0+ GB\n"
     ]
    }
   ],
   "source": [
    "df.info()"
   ]
  },
  {
   "cell_type": "markdown",
   "id": "afc3ef70",
   "metadata": {},
   "source": [
    "As the dataframe is huge (almost 3 gb), we decided to work on another version of this dataframe, just to have a sample that we could work on esier:"
   ]
  },
  {
   "cell_type": "code",
   "execution_count": 7,
   "id": "53c404df",
   "metadata": {},
   "outputs": [
    {
     "name": "stdout",
     "output_type": "stream",
     "text": [
      "(3864197, 46)\n"
     ]
    }
   ],
   "source": [
    "halfsize=int((df.shape[0])/2)\n",
    "df_half= df.iloc[:halfsize,:]\n",
    "print(df_half.shape)"
   ]
  },
  {
   "cell_type": "markdown",
   "id": "66bea087",
   "metadata": {},
   "source": [
    "Variables like Street, City, Zipcode and County won't be useful to keep, because there are too many distinct values.\\\n",
    "The columns Bump, Traffic_calming, Turning_loop, Give_Way, No_Exit, Roundabout can be deleted because they take only one value (all false).\\\n",
    "The variable Country only takes US so we can delete it.\\\n",
    "We can also delete some columns like Airport_Code that won't be relevant."
   ]
  },
  {
   "cell_type": "code",
   "execution_count": 8,
   "id": "62f024fa",
   "metadata": {},
   "outputs": [],
   "source": [
    "# Delete the columns we don't need \n",
    "df = df.drop(['Street', 'City', 'Description','County', 'Zipcode', 'Country', 'Bump', 'Traffic_Calming', 'Turning_Loop', 'Give_Way', 'No_Exit', 'Roundabout', 'Airport_Code'], axis=1)"
   ]
  },
  {
   "cell_type": "code",
   "execution_count": 9,
   "id": "4d2657e1",
   "metadata": {
    "scrolled": true
   },
   "outputs": [
    {
     "data": {
      "text/html": [
       "<div>\n",
       "<style scoped>\n",
       "    .dataframe tbody tr th:only-of-type {\n",
       "        vertical-align: middle;\n",
       "    }\n",
       "\n",
       "    .dataframe tbody tr th {\n",
       "        vertical-align: top;\n",
       "    }\n",
       "\n",
       "    .dataframe thead th {\n",
       "        text-align: right;\n",
       "    }\n",
       "</style>\n",
       "<table border=\"1\" class=\"dataframe\">\n",
       "  <thead>\n",
       "    <tr style=\"text-align: right;\">\n",
       "      <th></th>\n",
       "      <th>ID</th>\n",
       "      <th>Source</th>\n",
       "      <th>Severity</th>\n",
       "      <th>Start_Time</th>\n",
       "      <th>End_Time</th>\n",
       "      <th>Start_Lat</th>\n",
       "      <th>Start_Lng</th>\n",
       "      <th>End_Lat</th>\n",
       "      <th>End_Lng</th>\n",
       "      <th>Distance(mi)</th>\n",
       "      <th>...</th>\n",
       "      <th>Crossing</th>\n",
       "      <th>Junction</th>\n",
       "      <th>Railway</th>\n",
       "      <th>Station</th>\n",
       "      <th>Stop</th>\n",
       "      <th>Traffic_Signal</th>\n",
       "      <th>Sunrise_Sunset</th>\n",
       "      <th>Civil_Twilight</th>\n",
       "      <th>Nautical_Twilight</th>\n",
       "      <th>Astronomical_Twilight</th>\n",
       "    </tr>\n",
       "  </thead>\n",
       "  <tbody>\n",
       "    <tr>\n",
       "      <th>0</th>\n",
       "      <td>A-1</td>\n",
       "      <td>Source2</td>\n",
       "      <td>3</td>\n",
       "      <td>2016-02-08 05:46:00</td>\n",
       "      <td>2016-02-08 11:00:00</td>\n",
       "      <td>39.865147</td>\n",
       "      <td>-84.058723</td>\n",
       "      <td>NaN</td>\n",
       "      <td>NaN</td>\n",
       "      <td>0.01</td>\n",
       "      <td>...</td>\n",
       "      <td>False</td>\n",
       "      <td>False</td>\n",
       "      <td>False</td>\n",
       "      <td>False</td>\n",
       "      <td>False</td>\n",
       "      <td>False</td>\n",
       "      <td>Night</td>\n",
       "      <td>Night</td>\n",
       "      <td>Night</td>\n",
       "      <td>Night</td>\n",
       "    </tr>\n",
       "    <tr>\n",
       "      <th>1</th>\n",
       "      <td>A-2</td>\n",
       "      <td>Source2</td>\n",
       "      <td>2</td>\n",
       "      <td>2016-02-08 06:07:59</td>\n",
       "      <td>2016-02-08 06:37:59</td>\n",
       "      <td>39.928059</td>\n",
       "      <td>-82.831184</td>\n",
       "      <td>NaN</td>\n",
       "      <td>NaN</td>\n",
       "      <td>0.01</td>\n",
       "      <td>...</td>\n",
       "      <td>False</td>\n",
       "      <td>False</td>\n",
       "      <td>False</td>\n",
       "      <td>False</td>\n",
       "      <td>False</td>\n",
       "      <td>False</td>\n",
       "      <td>Night</td>\n",
       "      <td>Night</td>\n",
       "      <td>Night</td>\n",
       "      <td>Day</td>\n",
       "    </tr>\n",
       "    <tr>\n",
       "      <th>2</th>\n",
       "      <td>A-3</td>\n",
       "      <td>Source2</td>\n",
       "      <td>2</td>\n",
       "      <td>2016-02-08 06:49:27</td>\n",
       "      <td>2016-02-08 07:19:27</td>\n",
       "      <td>39.063148</td>\n",
       "      <td>-84.032608</td>\n",
       "      <td>NaN</td>\n",
       "      <td>NaN</td>\n",
       "      <td>0.01</td>\n",
       "      <td>...</td>\n",
       "      <td>False</td>\n",
       "      <td>False</td>\n",
       "      <td>False</td>\n",
       "      <td>False</td>\n",
       "      <td>False</td>\n",
       "      <td>True</td>\n",
       "      <td>Night</td>\n",
       "      <td>Night</td>\n",
       "      <td>Day</td>\n",
       "      <td>Day</td>\n",
       "    </tr>\n",
       "    <tr>\n",
       "      <th>3</th>\n",
       "      <td>A-4</td>\n",
       "      <td>Source2</td>\n",
       "      <td>3</td>\n",
       "      <td>2016-02-08 07:23:34</td>\n",
       "      <td>2016-02-08 07:53:34</td>\n",
       "      <td>39.747753</td>\n",
       "      <td>-84.205582</td>\n",
       "      <td>NaN</td>\n",
       "      <td>NaN</td>\n",
       "      <td>0.01</td>\n",
       "      <td>...</td>\n",
       "      <td>False</td>\n",
       "      <td>False</td>\n",
       "      <td>False</td>\n",
       "      <td>False</td>\n",
       "      <td>False</td>\n",
       "      <td>False</td>\n",
       "      <td>Night</td>\n",
       "      <td>Day</td>\n",
       "      <td>Day</td>\n",
       "      <td>Day</td>\n",
       "    </tr>\n",
       "    <tr>\n",
       "      <th>4</th>\n",
       "      <td>A-5</td>\n",
       "      <td>Source2</td>\n",
       "      <td>2</td>\n",
       "      <td>2016-02-08 07:39:07</td>\n",
       "      <td>2016-02-08 08:09:07</td>\n",
       "      <td>39.627781</td>\n",
       "      <td>-84.188354</td>\n",
       "      <td>NaN</td>\n",
       "      <td>NaN</td>\n",
       "      <td>0.01</td>\n",
       "      <td>...</td>\n",
       "      <td>False</td>\n",
       "      <td>False</td>\n",
       "      <td>False</td>\n",
       "      <td>False</td>\n",
       "      <td>False</td>\n",
       "      <td>True</td>\n",
       "      <td>Day</td>\n",
       "      <td>Day</td>\n",
       "      <td>Day</td>\n",
       "      <td>Day</td>\n",
       "    </tr>\n",
       "    <tr>\n",
       "      <th>5</th>\n",
       "      <td>A-6</td>\n",
       "      <td>Source2</td>\n",
       "      <td>3</td>\n",
       "      <td>2016-02-08 07:44:26</td>\n",
       "      <td>2016-02-08 08:14:26</td>\n",
       "      <td>40.100590</td>\n",
       "      <td>-82.925194</td>\n",
       "      <td>NaN</td>\n",
       "      <td>NaN</td>\n",
       "      <td>0.01</td>\n",
       "      <td>...</td>\n",
       "      <td>False</td>\n",
       "      <td>False</td>\n",
       "      <td>False</td>\n",
       "      <td>False</td>\n",
       "      <td>False</td>\n",
       "      <td>False</td>\n",
       "      <td>Day</td>\n",
       "      <td>Day</td>\n",
       "      <td>Day</td>\n",
       "      <td>Day</td>\n",
       "    </tr>\n",
       "    <tr>\n",
       "      <th>6</th>\n",
       "      <td>A-7</td>\n",
       "      <td>Source2</td>\n",
       "      <td>2</td>\n",
       "      <td>2016-02-08 07:59:35</td>\n",
       "      <td>2016-02-08 08:29:35</td>\n",
       "      <td>39.758274</td>\n",
       "      <td>-84.230507</td>\n",
       "      <td>NaN</td>\n",
       "      <td>NaN</td>\n",
       "      <td>0.00</td>\n",
       "      <td>...</td>\n",
       "      <td>False</td>\n",
       "      <td>False</td>\n",
       "      <td>False</td>\n",
       "      <td>False</td>\n",
       "      <td>False</td>\n",
       "      <td>False</td>\n",
       "      <td>Day</td>\n",
       "      <td>Day</td>\n",
       "      <td>Day</td>\n",
       "      <td>Day</td>\n",
       "    </tr>\n",
       "    <tr>\n",
       "      <th>7</th>\n",
       "      <td>A-8</td>\n",
       "      <td>Source2</td>\n",
       "      <td>3</td>\n",
       "      <td>2016-02-08 07:59:58</td>\n",
       "      <td>2016-02-08 08:29:58</td>\n",
       "      <td>39.770382</td>\n",
       "      <td>-84.194901</td>\n",
       "      <td>NaN</td>\n",
       "      <td>NaN</td>\n",
       "      <td>0.01</td>\n",
       "      <td>...</td>\n",
       "      <td>False</td>\n",
       "      <td>False</td>\n",
       "      <td>False</td>\n",
       "      <td>False</td>\n",
       "      <td>False</td>\n",
       "      <td>False</td>\n",
       "      <td>Day</td>\n",
       "      <td>Day</td>\n",
       "      <td>Day</td>\n",
       "      <td>Day</td>\n",
       "    </tr>\n",
       "    <tr>\n",
       "      <th>8</th>\n",
       "      <td>A-9</td>\n",
       "      <td>Source2</td>\n",
       "      <td>2</td>\n",
       "      <td>2016-02-08 08:00:40</td>\n",
       "      <td>2016-02-08 08:30:40</td>\n",
       "      <td>39.778061</td>\n",
       "      <td>-84.172005</td>\n",
       "      <td>NaN</td>\n",
       "      <td>NaN</td>\n",
       "      <td>0.00</td>\n",
       "      <td>...</td>\n",
       "      <td>False</td>\n",
       "      <td>False</td>\n",
       "      <td>False</td>\n",
       "      <td>False</td>\n",
       "      <td>False</td>\n",
       "      <td>False</td>\n",
       "      <td>Day</td>\n",
       "      <td>Day</td>\n",
       "      <td>Day</td>\n",
       "      <td>Day</td>\n",
       "    </tr>\n",
       "    <tr>\n",
       "      <th>9</th>\n",
       "      <td>A-10</td>\n",
       "      <td>Source2</td>\n",
       "      <td>3</td>\n",
       "      <td>2016-02-08 08:10:04</td>\n",
       "      <td>2016-02-08 08:40:04</td>\n",
       "      <td>40.100590</td>\n",
       "      <td>-82.925194</td>\n",
       "      <td>NaN</td>\n",
       "      <td>NaN</td>\n",
       "      <td>0.01</td>\n",
       "      <td>...</td>\n",
       "      <td>False</td>\n",
       "      <td>False</td>\n",
       "      <td>False</td>\n",
       "      <td>False</td>\n",
       "      <td>False</td>\n",
       "      <td>False</td>\n",
       "      <td>Day</td>\n",
       "      <td>Day</td>\n",
       "      <td>Day</td>\n",
       "      <td>Day</td>\n",
       "    </tr>\n",
       "  </tbody>\n",
       "</table>\n",
       "<p>10 rows × 33 columns</p>\n",
       "</div>"
      ],
      "text/plain": [
       "     ID   Source  Severity           Start_Time             End_Time  \\\n",
       "0   A-1  Source2         3  2016-02-08 05:46:00  2016-02-08 11:00:00   \n",
       "1   A-2  Source2         2  2016-02-08 06:07:59  2016-02-08 06:37:59   \n",
       "2   A-3  Source2         2  2016-02-08 06:49:27  2016-02-08 07:19:27   \n",
       "3   A-4  Source2         3  2016-02-08 07:23:34  2016-02-08 07:53:34   \n",
       "4   A-5  Source2         2  2016-02-08 07:39:07  2016-02-08 08:09:07   \n",
       "5   A-6  Source2         3  2016-02-08 07:44:26  2016-02-08 08:14:26   \n",
       "6   A-7  Source2         2  2016-02-08 07:59:35  2016-02-08 08:29:35   \n",
       "7   A-8  Source2         3  2016-02-08 07:59:58  2016-02-08 08:29:58   \n",
       "8   A-9  Source2         2  2016-02-08 08:00:40  2016-02-08 08:30:40   \n",
       "9  A-10  Source2         3  2016-02-08 08:10:04  2016-02-08 08:40:04   \n",
       "\n",
       "   Start_Lat  Start_Lng  End_Lat  End_Lng  Distance(mi)  ... Crossing  \\\n",
       "0  39.865147 -84.058723      NaN      NaN          0.01  ...    False   \n",
       "1  39.928059 -82.831184      NaN      NaN          0.01  ...    False   \n",
       "2  39.063148 -84.032608      NaN      NaN          0.01  ...    False   \n",
       "3  39.747753 -84.205582      NaN      NaN          0.01  ...    False   \n",
       "4  39.627781 -84.188354      NaN      NaN          0.01  ...    False   \n",
       "5  40.100590 -82.925194      NaN      NaN          0.01  ...    False   \n",
       "6  39.758274 -84.230507      NaN      NaN          0.00  ...    False   \n",
       "7  39.770382 -84.194901      NaN      NaN          0.01  ...    False   \n",
       "8  39.778061 -84.172005      NaN      NaN          0.00  ...    False   \n",
       "9  40.100590 -82.925194      NaN      NaN          0.01  ...    False   \n",
       "\n",
       "  Junction Railway  Station   Stop  Traffic_Signal  Sunrise_Sunset  \\\n",
       "0    False   False    False  False           False           Night   \n",
       "1    False   False    False  False           False           Night   \n",
       "2    False   False    False  False            True           Night   \n",
       "3    False   False    False  False           False           Night   \n",
       "4    False   False    False  False            True             Day   \n",
       "5    False   False    False  False           False             Day   \n",
       "6    False   False    False  False           False             Day   \n",
       "7    False   False    False  False           False             Day   \n",
       "8    False   False    False  False           False             Day   \n",
       "9    False   False    False  False           False             Day   \n",
       "\n",
       "   Civil_Twilight Nautical_Twilight  Astronomical_Twilight  \n",
       "0           Night             Night                  Night  \n",
       "1           Night             Night                    Day  \n",
       "2           Night               Day                    Day  \n",
       "3             Day               Day                    Day  \n",
       "4             Day               Day                    Day  \n",
       "5             Day               Day                    Day  \n",
       "6             Day               Day                    Day  \n",
       "7             Day               Day                    Day  \n",
       "8             Day               Day                    Day  \n",
       "9             Day               Day                    Day  \n",
       "\n",
       "[10 rows x 33 columns]"
      ]
     },
     "execution_count": 9,
     "metadata": {},
     "output_type": "execute_result"
    }
   ],
   "source": [
    "df.head(10)"
   ]
  },
  {
   "cell_type": "code",
   "execution_count": 10,
   "id": "b9d05f41",
   "metadata": {
    "scrolled": true
   },
   "outputs": [
    {
     "data": {
      "text/plain": [
       "<bound method NDFrame.describe of                 ID   Source  Severity           Start_Time  \\\n",
       "0              A-1  Source2         3  2016-02-08 05:46:00   \n",
       "1              A-2  Source2         2  2016-02-08 06:07:59   \n",
       "2              A-3  Source2         2  2016-02-08 06:49:27   \n",
       "3              A-4  Source2         3  2016-02-08 07:23:34   \n",
       "4              A-5  Source2         2  2016-02-08 07:39:07   \n",
       "...            ...      ...       ...                  ...   \n",
       "7728389  A-7777757  Source1         2  2019-08-23 18:03:25   \n",
       "7728390  A-7777758  Source1         2  2019-08-23 19:11:30   \n",
       "7728391  A-7777759  Source1         2  2019-08-23 19:00:21   \n",
       "7728392  A-7777760  Source1         2  2019-08-23 19:00:21   \n",
       "7728393  A-7777761  Source1         2  2019-08-23 18:52:06   \n",
       "\n",
       "                    End_Time  Start_Lat   Start_Lng   End_Lat    End_Lng  \\\n",
       "0        2016-02-08 11:00:00  39.865147  -84.058723       NaN        NaN   \n",
       "1        2016-02-08 06:37:59  39.928059  -82.831184       NaN        NaN   \n",
       "2        2016-02-08 07:19:27  39.063148  -84.032608       NaN        NaN   \n",
       "3        2016-02-08 07:53:34  39.747753  -84.205582       NaN        NaN   \n",
       "4        2016-02-08 08:09:07  39.627781  -84.188354       NaN        NaN   \n",
       "...                      ...        ...         ...       ...        ...   \n",
       "7728389  2019-08-23 18:32:01  34.002480 -117.379360  33.99888 -117.37094   \n",
       "7728390  2019-08-23 19:38:23  32.766960 -117.148060  32.76555 -117.15363   \n",
       "7728391  2019-08-23 19:28:49  33.775450 -117.847790  33.77740 -117.85727   \n",
       "7728392  2019-08-23 19:29:42  33.992460 -118.403020  33.98311 -118.39565   \n",
       "7728393  2019-08-23 19:21:31  34.133930 -117.230920  34.13736 -117.23934   \n",
       "\n",
       "         Distance(mi)  ... Crossing Junction Railway  Station   Stop  \\\n",
       "0               0.010  ...    False    False   False    False  False   \n",
       "1               0.010  ...    False    False   False    False  False   \n",
       "2               0.010  ...    False    False   False    False  False   \n",
       "3               0.010  ...    False    False   False    False  False   \n",
       "4               0.010  ...    False    False   False    False  False   \n",
       "...               ...  ...      ...      ...     ...      ...    ...   \n",
       "7728389         0.543  ...    False    False   False    False  False   \n",
       "7728390         0.338  ...    False    False   False    False  False   \n",
       "7728391         0.561  ...    False     True   False    False  False   \n",
       "7728392         0.772  ...    False    False   False    False  False   \n",
       "7728393         0.537  ...    False    False   False    False  False   \n",
       "\n",
       "         Traffic_Signal  Sunrise_Sunset  Civil_Twilight Nautical_Twilight  \\\n",
       "0                 False           Night           Night             Night   \n",
       "1                 False           Night           Night             Night   \n",
       "2                  True           Night           Night               Day   \n",
       "3                 False           Night             Day               Day   \n",
       "4                  True             Day             Day               Day   \n",
       "...                 ...             ...             ...               ...   \n",
       "7728389           False             Day             Day               Day   \n",
       "7728390           False             Day             Day               Day   \n",
       "7728391           False             Day             Day               Day   \n",
       "7728392           False             Day             Day               Day   \n",
       "7728393           False             Day             Day               Day   \n",
       "\n",
       "         Astronomical_Twilight  \n",
       "0                        Night  \n",
       "1                          Day  \n",
       "2                          Day  \n",
       "3                          Day  \n",
       "4                          Day  \n",
       "...                        ...  \n",
       "7728389                    Day  \n",
       "7728390                    Day  \n",
       "7728391                    Day  \n",
       "7728392                    Day  \n",
       "7728393                    Day  \n",
       "\n",
       "[7728394 rows x 33 columns]>"
      ]
     },
     "execution_count": 10,
     "metadata": {},
     "output_type": "execute_result"
    }
   ],
   "source": [
    "df.describe"
   ]
  },
  {
   "cell_type": "markdown",
   "id": "df34784a",
   "metadata": {},
   "source": [
    "# Data Cleaning"
   ]
  },
  {
   "cell_type": "markdown",
   "id": "5b5b7fa2",
   "metadata": {},
   "source": [
    "Missing values:"
   ]
  },
  {
   "cell_type": "code",
   "execution_count": 11,
   "id": "4a0e774c",
   "metadata": {
    "scrolled": true
   },
   "outputs": [
    {
     "name": "stdout",
     "output_type": "stream",
     "text": [
      "ID                             0\n",
      "Source                         0\n",
      "Severity                       0\n",
      "Start_Time                     0\n",
      "End_Time                       0\n",
      "Start_Lat                      0\n",
      "Start_Lng                      0\n",
      "End_Lat                  3402762\n",
      "End_Lng                  3402762\n",
      "Distance(mi)                   0\n",
      "State                          0\n",
      "Timezone                    7808\n",
      "Weather_Timestamp         120228\n",
      "Temperature(F)            163853\n",
      "Wind_Chill(F)            1999019\n",
      "Humidity(%)               174144\n",
      "Pressure(in)              140679\n",
      "Visibility(mi)            177098\n",
      "Wind_Direction            175206\n",
      "Wind_Speed(mph)           571233\n",
      "Precipitation(in)        2203586\n",
      "Weather_Condition         173459\n",
      "Amenity                        0\n",
      "Crossing                       0\n",
      "Junction                       0\n",
      "Railway                        0\n",
      "Station                        0\n",
      "Stop                           0\n",
      "Traffic_Signal                 0\n",
      "Sunrise_Sunset             23246\n",
      "Civil_Twilight             23246\n",
      "Nautical_Twilight          23246\n",
      "Astronomical_Twilight      23246\n",
      "dtype: int64\n"
     ]
    }
   ],
   "source": [
    "print(df.isnull().sum())"
   ]
  },
  {
   "cell_type": "markdown",
   "id": "ae6993b4",
   "metadata": {},
   "source": [
    "\n"
   ]
  },
  {
   "cell_type": "markdown",
   "id": "d9ec92e4",
   "metadata": {},
   "source": [
    "There are missing values, so, what can we do about it?"
   ]
  },
  {
   "cell_type": "markdown",
   "id": "23672a5a",
   "metadata": {},
   "source": [
    "First, we create a new dataframe to secure the first one if we ever delete the wring values"
   ]
  },
  {
   "cell_type": "code",
   "execution_count": 12,
   "id": "ed408d15",
   "metadata": {},
   "outputs": [],
   "source": [
    "newdf = df"
   ]
  },
  {
   "cell_type": "markdown",
   "id": "2d56c038",
   "metadata": {},
   "source": [
    " "
   ]
  },
  {
   "cell_type": "code",
   "execution_count": 13,
   "id": "a32df239",
   "metadata": {},
   "outputs": [],
   "source": [
    "#for the end lat/lng : we will fill the NAN by the start lat/lng:\n",
    "\n",
    "newdf['End_Lat']=newdf['End_Lat'].fillna(newdf['Start_Lat'])\n",
    "newdf['End_Lng']=newdf['End_Lng'].fillna(newdf['Start_Lng'])\n",
    "\n",
    "#for the streets/Cities/Description/zipcode/timezone/Weather_Condition/Sunrise_Sunset/Civil_Twilight/Nautical_Twilight\n",
    "#and Astronomical_Twilight, we just write \"unknown\", \n",
    "#as we do not want to give fake infoomations to the person reading\n",
    "\n",
    "newdf['Timezone']=newdf['Timezone'].fillna('unknown')\n",
    "newdf['Weather_Condition']=newdf['Weather_Condition'].fillna('unknown')\n",
    "newdf['Sunrise_Sunset']=newdf['Sunrise_Sunset'].fillna('unknown')\n",
    "newdf['Civil_Twilight']=newdf['Civil_Twilight'].fillna('unknown')\n",
    "newdf['Nautical_Twilight']=newdf['Weather_Condition'].fillna('unknown')\n",
    "newdf['Astronomical_Twilight']=newdf['Astronomical_Twilight'].fillna('unknown')\n",
    "\n",
    "# for the weather timestamp, we put now's date\n",
    "newdf['Weather_Timestamp']=newdf['Weather_Timestamp'].fillna(datetime.now())\n",
    "\n",
    "#temperature/Wind_Chill(F)/Humidity(%)/Pressure(in)/Visibility(mi)/Wind_Speed(mph)/Precipitation(in): we put the mean\n",
    "newdf['Temperature(F)']=newdf['Temperature(F)'].fillna(newdf['Temperature(F)'].mean())\n",
    "newdf['Wind_Chill(F)']=newdf['Wind_Chill(F)'].fillna(newdf['Wind_Chill(F)'].mean())\n",
    "newdf['Humidity(%)']=newdf['Humidity(%)'].fillna(newdf['Humidity(%)'].mean())\n",
    "newdf['Pressure(in)']=newdf['Pressure(in)'].fillna(newdf['Pressure(in)'].mean())\n",
    "newdf['Visibility(mi)']=newdf['Visibility(mi)'].fillna(newdf['Visibility(mi)'].mean())\n",
    "newdf['Wind_Speed(mph)']=newdf['Wind_Speed(mph)'].fillna(newdf['Wind_Speed(mph)'].mean())\n",
    "newdf['Precipitation(in)']=newdf['Precipitation(in)'].fillna(newdf['Precipitation(in)'].mean())\n",
    "\n",
    "\n",
    "# for the airport code, we write '###' in the missing values\n",
    "newdf['Wind_Direction']=newdf['Wind_Direction'].fillna('###')"
   ]
  },
  {
   "cell_type": "code",
   "execution_count": 14,
   "id": "0c0510c7",
   "metadata": {},
   "outputs": [
    {
     "name": "stdout",
     "output_type": "stream",
     "text": [
      "ID                       0\n",
      "Source                   0\n",
      "Severity                 0\n",
      "Start_Time               0\n",
      "End_Time                 0\n",
      "Start_Lat                0\n",
      "Start_Lng                0\n",
      "End_Lat                  0\n",
      "End_Lng                  0\n",
      "Distance(mi)             0\n",
      "State                    0\n",
      "Timezone                 0\n",
      "Weather_Timestamp        0\n",
      "Temperature(F)           0\n",
      "Wind_Chill(F)            0\n",
      "Humidity(%)              0\n",
      "Pressure(in)             0\n",
      "Visibility(mi)           0\n",
      "Wind_Direction           0\n",
      "Wind_Speed(mph)          0\n",
      "Precipitation(in)        0\n",
      "Weather_Condition        0\n",
      "Amenity                  0\n",
      "Crossing                 0\n",
      "Junction                 0\n",
      "Railway                  0\n",
      "Station                  0\n",
      "Stop                     0\n",
      "Traffic_Signal           0\n",
      "Sunrise_Sunset           0\n",
      "Civil_Twilight           0\n",
      "Nautical_Twilight        0\n",
      "Astronomical_Twilight    0\n",
      "dtype: int64\n"
     ]
    }
   ],
   "source": [
    "print(newdf.isnull().sum())"
   ]
  },
  {
   "cell_type": "code",
   "execution_count": 15,
   "id": "210bc0c4",
   "metadata": {},
   "outputs": [
    {
     "data": {
      "image/png": "[encoded data removed]",
      "text/plain": [
       "<Figure size 2000x500 with 4 Axes>"
      ]
     },
     "metadata": {},
     "output_type": "display_data"
    }
   ],
   "source": [
    "fig, axes = plt.subplots(nrows=1, ncols=4, figsize=(20, 5))\n",
    "\n",
    "newdf[['Humidity(%)']].boxplot(ax=axes[0])\n",
    "axes[0].set_title('Humidity(%)')\n",
    "\n",
    "newdf[['Visibility(mi)']].boxplot(ax=axes[1])\n",
    "axes[1].set_title('Visibility(mi)')\n",
    "\n",
    "newdf[['Wind_Speed(mph)']].boxplot(ax=axes[2])\n",
    "axes[2].set_title('Wind_Speed(mph)')\n",
    "\n",
    "newdf[['Precipitation(in)']].boxplot(ax=axes[3])\n",
    "axes[3].set_title('Precipitation(in)')\n",
    "\n",
    "plt.show()"
   ]
  },
  {
   "cell_type": "markdown",
   "id": "7738a936",
   "metadata": {},
   "source": [
    "as we can see, there are a lot of outliers in the dataset, so let's remove them"
   ]
  },
  {
   "cell_type": "code",
   "execution_count": 16,
   "id": "a9e943b7",
   "metadata": {
    "scrolled": true
   },
   "outputs": [
    {
     "data": {
      "text/plain": [
       "<Axes: >"
      ]
     },
     "execution_count": 16,
     "metadata": {},
     "output_type": "execute_result"
    },
    {
     "data": {
      "image/png": "[encoded data removed]",
      "text/plain": [
       "<Figure size 640x480 with 1 Axes>"
      ]
     },
     "metadata": {},
     "output_type": "display_data"
    }
   ],
   "source": [
    "sns.boxplot(newdf['Visibility(mi)'])"
   ]
  },
  {
   "cell_type": "markdown",
   "id": "b5ce3273",
   "metadata": {},
   "source": [
    "Looks like there is a lot of outliers, so we decide to replace some outliers with the mean value"
   ]
  },
  {
   "cell_type": "code",
   "execution_count": 17,
   "id": "d326bfb9",
   "metadata": {},
   "outputs": [
    {
     "data": {
      "text/plain": [
       "<Axes: >"
      ]
     },
     "execution_count": 17,
     "metadata": {},
     "output_type": "execute_result"
    },
    {
     "data": {
      "image/png": "[encoded data removed]",
      "text/plain": [
       "<Figure size 640x480 with 1 Axes>"
      ]
     },
     "metadata": {},
     "output_type": "display_data"
    }
   ],
   "source": [
    "moyenne_colonne = newdf['Visibility(mi)'].mean()\n",
    "\n",
    "newdf.loc[newdf['Visibility(mi)'] > 60, 'Visibility(mi)'] = 60\n",
    "\n",
    "sns.boxplot(newdf['Visibility(mi)'])"
   ]
  },
  {
   "cell_type": "markdown",
   "id": "6b1dfc8f",
   "metadata": {},
   "source": [
    "As we can see, actually, there is a huge amount of \"10\" values, so the other values are more rare, so we can decide to keep it this way or to delete them. We chose to delete them, as they are not representative"
   ]
  },
  {
   "cell_type": "markdown",
   "id": "3a1d5146",
   "metadata": {},
   "source": [
    "Let's deal with every columns that contains outliers now."
   ]
  },
  {
   "cell_type": "code",
   "execution_count": 18,
   "id": "e5ecf4c0",
   "metadata": {},
   "outputs": [],
   "source": [
    "Q1= newdf['Wind_Speed(mph)'].quantile(0.25)\n",
    "Q3= newdf['Wind_Speed(mph)'].quantile(0.75)\n",
    "IQR = Q3 - Q1\n",
    "moyenne = newdf['Wind_Speed(mph)'].mean()\n",
    "\n",
    "threshold = 1.5\n",
    "\n",
    "newdf.loc[(df['Wind_Speed(mph)'] < Q1 - threshold * IQR), 'Wind_Speed(mph)'] = moyenne\n",
    "newdf.loc[(df['Wind_Speed(mph)'] > Q3 + threshold * IQR), 'Wind_Speed(mph)'] = moyenne\n",
    "\n",
    "#precipitaion\n",
    "\n",
    "Q1= newdf['Precipitation(in)'].quantile(0.25)\n",
    "Q3= newdf['Precipitation(in)'].quantile(0.75)\n",
    "IQR = Q3 - Q1\n",
    "\n",
    "threshold = 3\n",
    "\n",
    "\n",
    "moyenne_precipitation = newdf['Precipitation(in)'].median()\n",
    "newdf.loc[(df['Precipitation(in)'] < Q1 - threshold * IQR), 'Precipitation(in)'] = moyenne_precipitation\n",
    "newdf.loc[(df['Precipitation(in)'] > Q3 + threshold * IQR), 'Precipitation(in)'] = moyenne_precipitation\n",
    "\n",
    "#wind chill\n",
    "Q1= newdf['Wind_Chill(F)'].quantile(0.25)\n",
    "Q3= newdf['Wind_Chill(F)'].quantile(0.75)\n",
    "IQR = Q3 - Q1\n",
    "\n",
    "threshold = 1.5\n",
    "\n",
    "\n",
    "moyenne_windchill = newdf['Wind_Chill(F)'].median()\n",
    "newdf.loc[(df['Wind_Chill(F)'] < Q1 - threshold * IQR), 'Wind_Chill(F)'] = moyenne_windchill\n",
    "newdf.loc[(df['Wind_Chill(F)'] > Q3 + threshold * IQR), 'Wind_Chill(F)'] = moyenne_windchill\n",
    "\n",
    "#Temperature\n",
    "\n",
    "Q1= newdf['Temperature(F)'].quantile(0.25)\n",
    "Q3= newdf['Temperature(F)'].quantile(0.75)\n",
    "IQR = Q3 - Q1\n",
    "\n",
    "threshold = 1.5\n",
    "\n",
    "\n",
    "moyenne_temp = newdf['Temperature(F)'].median()\n",
    "newdf.loc[(df['Temperature(F)'] < Q1 - threshold * IQR), 'Temperature(F)'] = moyenne_temp\n",
    "newdf.loc[(df['Temperature(F)'] > Q3 + threshold * IQR), 'Temperature(F)'] = moyenne_temp"
   ]
  },
  {
   "cell_type": "code",
   "execution_count": 19,
   "id": "efec0b6e",
   "metadata": {},
   "outputs": [
    {
     "data": {
      "image/png": "[encoded data removed]",
      "text/plain": [
       "<Figure size 2000x500 with 3 Axes>"
      ]
     },
     "metadata": {},
     "output_type": "display_data"
    }
   ],
   "source": [
    "fig, axes = plt.subplots(nrows=1, ncols=3, figsize=(20, 5))\n",
    "\n",
    "newdf[['Precipitation(in)']].boxplot(ax=axes[0])\n",
    "axes[0].set_title('Precipitation(in)')\n",
    "\n",
    "newdf[['Wind_Chill(F)']].boxplot(ax=axes[1])\n",
    "axes[1].set_title('Wind_Chill(F)')\n",
    "\n",
    "newdf[['Temperature(F)']].boxplot(ax=axes[2])\n",
    "axes[2].set_title('Temperature(F)')\n",
    "\n",
    "plt.show()"
   ]
  },
  {
   "cell_type": "markdown",
   "id": "3ea6db7b",
   "metadata": {},
   "source": [
    "# Question 3\n",
    "\n",
    "The variables we can predict are probably the severity of an accident, and maybe a start time.\n",
    "\n",
    "Based on our intuition, we think that the most important variables to predict the severity of an accident would be the weather condition variables like Humidity, Wind Speed, Pressure, etc. And probably the time of the day like Day or Night.\n",
    "\n",
    "## Univariate Analysis"
   ]
  },
  {
   "cell_type": "markdown",
   "id": "9f3f3d41",
   "metadata": {},
   "source": [
    "Let's do a histogram"
   ]
  },
  {
   "cell_type": "code",
   "execution_count": 20,
   "id": "243eaee7",
   "metadata": {
    "scrolled": true
   },
   "outputs": [
    {
     "data": {
      "text/plain": [
       "(array([  67366.,       0.,       0., 6156981.,       0.,       0.,\n",
       "        1299337.,       0.,       0.,  204710.]),\n",
       " array([1. , 1.3, 1.6, 1.9, 2.2, 2.5, 2.8, 3.1, 3.4, 3.7, 4. ]),\n",
       " <BarContainer object of 10 artists>)"
      ]
     },
     "execution_count": 20,
     "metadata": {},
     "output_type": "execute_result"
    },
    {
     "data": {
      "image/png": "[encoded data removed]",
      "text/plain": [
       "<Figure size 640x480 with 1 Axes>"
      ]
     },
     "metadata": {},
     "output_type": "display_data"
    }
   ],
   "source": [
    "plt.hist(newdf['Severity'])"
   ]
  },
  {
   "cell_type": "code",
   "execution_count": 21,
   "id": "d9e1d27c",
   "metadata": {
    "scrolled": false
   },
   "outputs": [
    {
     "data": {
      "text/plain": [
       "(array([2370595.,       0.,       0.,       0.,       0., 5334553.,\n",
       "              0.,       0.,       0.,   23246.]),\n",
       " array([0. , 0.2, 0.4, 0.6, 0.8, 1. , 1.2, 1.4, 1.6, 1.8, 2. ]),\n",
       " <BarContainer object of 10 artists>)"
      ]
     },
     "execution_count": 21,
     "metadata": {},
     "output_type": "execute_result"
    },
    {
     "data": {
      "image/png": "[encoded data removed]",
      "text/plain": [
       "<Figure size 640x480 with 1 Axes>"
      ]
     },
     "metadata": {},
     "output_type": "display_data"
    }
   ],
   "source": [
    "plt.hist(newdf['Sunrise_Sunset'])"
   ]
  },
  {
   "cell_type": "code",
   "execution_count": 22,
   "id": "60353d93",
   "metadata": {},
   "outputs": [],
   "source": [
    "#plt.scatter(newdf.index, newdf['Start_Time'])\n",
    "#plt.show()"
   ]
  },
  {
   "cell_type": "markdown",
   "id": "32a1b62b",
   "metadata": {},
   "source": [
    "# Question 4\n",
    "\n",
    "Here we are going to do a linear regression to predict values of new data for the dataset. \n",
    "Based on our intuition, we think that the most important variables to predict the severity of an accident would be the weather condition variables like Humidity or the time of the day like Day or Night, or even where it happened (what is on a stop, or a traffic sign ?)...\n"
   ]
  },
  {
   "cell_type": "code",
   "execution_count": 23,
   "id": "e81eccee",
   "metadata": {},
   "outputs": [],
   "source": [
    "import pandas as pd\n",
    "from sklearn.model_selection import train_test_split\n",
    "from sklearn.linear_model import LinearRegression\n",
    "from sklearn.metrics import mean_squared_error"
   ]
  },
  {
   "cell_type": "code",
   "execution_count": 103,
   "id": "b372aefc",
   "metadata": {},
   "outputs": [
    {
     "name": "stdout",
     "output_type": "stream",
     "text": [
      "<class 'pandas.core.frame.DataFrame'>\n",
      "RangeIndex: 7728394 entries, 0 to 7728393\n",
      "Data columns (total 33 columns):\n",
      " #   Column                 Dtype  \n",
      "---  ------                 -----  \n",
      " 0   ID                     object \n",
      " 1   Source                 object \n",
      " 2   Severity               int64  \n",
      " 3   Start_Time             object \n",
      " 4   End_Time               object \n",
      " 5   Start_Lat              float64\n",
      " 6   Start_Lng              float64\n",
      " 7   End_Lat                float64\n",
      " 8   End_Lng                float64\n",
      " 9   Distance(mi)           float64\n",
      " 10  State                  object \n",
      " 11  Timezone               object \n",
      " 12  Weather_Timestamp      object \n",
      " 13  Temperature(F)         float64\n",
      " 14  Wind_Chill(F)          float64\n",
      " 15  Humidity(%)            float64\n",
      " 16  Pressure(in)           float64\n",
      " 17  Visibility(mi)         float64\n",
      " 18  Wind_Direction         object \n",
      " 19  Wind_Speed(mph)        float64\n",
      " 20  Precipitation(in)      float64\n",
      " 21  Weather_Condition      object \n",
      " 22  Amenity                bool   \n",
      " 23  Crossing               bool   \n",
      " 24  Junction               bool   \n",
      " 25  Railway                bool   \n",
      " 26  Station                bool   \n",
      " 27  Stop                   bool   \n",
      " 28  Traffic_Signal         bool   \n",
      " 29  Sunrise_Sunset         object \n",
      " 30  Civil_Twilight         object \n",
      " 31  Nautical_Twilight      object \n",
      " 32  Astronomical_Twilight  object \n",
      "dtypes: bool(7), float64(12), int64(1), object(13)\n",
      "memory usage: 1.5+ GB\n"
     ]
    }
   ],
   "source": [
    "newdf.info() #We check again which colomns we have and their type "
   ]
  },
  {
   "cell_type": "code",
   "execution_count": 203,
   "id": "372b8312",
   "metadata": {},
   "outputs": [],
   "source": [
    "# Define target variable and predictor variables\n",
    "X = newdf[['Visibility(mi)','Weather_Condition','Crossing','Junction','Station','Traffic_Signal','Stop','State','Precipitation(in)']] \n",
    "y = newdf['Severity']\n"
   ]
  },
  {
   "cell_type": "markdown",
   "id": "23ed6cc0",
   "metadata": {},
   "source": [
    "After many test, to see which variables we should tale we decided to go with variable containing location informations (stop, state, traffic_signal...), variables linked to the condition (visibility, weather condition...)."
   ]
  },
  {
   "cell_type": "code",
   "execution_count": 204,
   "id": "7677d386",
   "metadata": {},
   "outputs": [],
   "source": [
    "# hot encoding on 'Weather_Condition' and 'State' columns as they are string colomns\n",
    "X_encoded = pd.get_dummies(X, columns=['Weather_Condition','State'], drop_first=True)\n",
    "\n",
    "X_train, X_test, y_train, y_test = train_test_split(X_encoded, y, test_size=0.2, random_state=42)\n"
   ]
  },
  {
   "cell_type": "code",
   "execution_count": 205,
   "id": "8e943b2a",
   "metadata": {},
   "outputs": [
    {
     "data": {
      "text/html": [
       "<style>#sk-container-id-32 {color: black;}#sk-container-id-32 pre{padding: 0;}#sk-container-id-32 div.sk-toggleable {background-color: white;}#sk-container-id-32 label.sk-toggleable__label {cursor: pointer;display: block;width: 100%;margin-bottom: 0;padding: 0.3em;box-sizing: border-box;text-align: center;}#sk-container-id-32 label.sk-toggleable__label-arrow:before {content: \"▸\";float: left;margin-right: 0.25em;color: #696969;}#sk-container-id-32 label.sk-toggleable__label-arrow:hover:before {color: black;}#sk-container-id-32 div.sk-estimator:hover label.sk-toggleable__label-arrow:before {color: black;}#sk-container-id-32 div.sk-toggleable__content {max-height: 0;max-width: 0;overflow: hidden;text-align: left;background-color: #f0f8ff;}#sk-container-id-32 div.sk-toggleable__content pre {margin: 0.2em;color: black;border-radius: 0.25em;background-color: #f0f8ff;}#sk-container-id-32 input.sk-toggleable__control:checked~div.sk-toggleable__content {max-height: 200px;max-width: 100%;overflow: auto;}#sk-container-id-32 input.sk-toggleable__control:checked~label.sk-toggleable__label-arrow:before {content: \"▾\";}#sk-container-id-32 div.sk-estimator input.sk-toggleable__control:checked~label.sk-toggleable__label {background-color: #d4ebff;}#sk-container-id-32 div.sk-label input.sk-toggleable__control:checked~label.sk-toggleable__label {background-color: #d4ebff;}#sk-container-id-32 input.sk-hidden--visually {border: 0;clip: rect(1px 1px 1px 1px);clip: rect(1px, 1px, 1px, 1px);height: 1px;margin: -1px;overflow: hidden;padding: 0;position: absolute;width: 1px;}#sk-container-id-32 div.sk-estimator {font-family: monospace;background-color: #f0f8ff;border: 1px dotted black;border-radius: 0.25em;box-sizing: border-box;margin-bottom: 0.5em;}#sk-container-id-32 div.sk-estimator:hover {background-color: #d4ebff;}#sk-container-id-32 div.sk-parallel-item::after {content: \"\";width: 100%;border-bottom: 1px solid gray;flex-grow: 1;}#sk-container-id-32 div.sk-label:hover label.sk-toggleable__label {background-color: #d4ebff;}#sk-container-id-32 div.sk-serial::before {content: \"\";position: absolute;border-left: 1px solid gray;box-sizing: border-box;top: 0;bottom: 0;left: 50%;z-index: 0;}#sk-container-id-32 div.sk-serial {display: flex;flex-direction: column;align-items: center;background-color: white;padding-right: 0.2em;padding-left: 0.2em;position: relative;}#sk-container-id-32 div.sk-item {position: relative;z-index: 1;}#sk-container-id-32 div.sk-parallel {display: flex;align-items: stretch;justify-content: center;background-color: white;position: relative;}#sk-container-id-32 div.sk-item::before, #sk-container-id-32 div.sk-parallel-item::before {content: \"\";position: absolute;border-left: 1px solid gray;box-sizing: border-box;top: 0;bottom: 0;left: 50%;z-index: -1;}#sk-container-id-32 div.sk-parallel-item {display: flex;flex-direction: column;z-index: 1;position: relative;background-color: white;}#sk-container-id-32 div.sk-parallel-item:first-child::after {align-self: flex-end;width: 50%;}#sk-container-id-32 div.sk-parallel-item:last-child::after {align-self: flex-start;width: 50%;}#sk-container-id-32 div.sk-parallel-item:only-child::after {width: 0;}#sk-container-id-32 div.sk-dashed-wrapped {border: 1px dashed gray;margin: 0 0.4em 0.5em 0.4em;box-sizing: border-box;padding-bottom: 0.4em;background-color: white;}#sk-container-id-32 div.sk-label label {font-family: monospace;font-weight: bold;display: inline-block;line-height: 1.2em;}#sk-container-id-32 div.sk-label-container {text-align: center;}#sk-container-id-32 div.sk-container {/* jupyter's `normalize.less` sets `[hidden] { display: none; }` but bootstrap.min.css set `[hidden] { display: none !important; }` so we also need the `!important` here to be able to override the default hidden behavior on the sphinx rendered scikit-learn.org. See: https://github.com/scikit-learn/scikit-learn/issues/21755 */display: inline-block !important;position: relative;}#sk-container-id-32 div.sk-text-repr-fallback {display: none;}</style><div id=\"sk-container-id-32\" class=\"sk-top-container\"><div class=\"sk-text-repr-fallback\"><pre>LinearRegression()</pre><b>In a Jupyter environment, please rerun this cell to show the HTML representation or trust the notebook. <br />On GitHub, the HTML representation is unable to render, please try loading this page with nbviewer.org.</b></div><div class=\"sk-container\" hidden><div class=\"sk-item\"><div class=\"sk-estimator sk-toggleable\"><input class=\"sk-toggleable__control sk-hidden--visually\" id=\"sk-estimator-id-32\" type=\"checkbox\" checked><label for=\"sk-estimator-id-32\" class=\"sk-toggleable__label sk-toggleable__label-arrow\">LinearRegression</label><div class=\"sk-toggleable__content\"><pre>LinearRegression()</pre></div></div></div></div></div>"
      ],
      "text/plain": [
       "LinearRegression()"
      ]
     },
     "execution_count": 205,
     "metadata": {},
     "output_type": "execute_result"
    }
   ],
   "source": [
    "# Fit the linear regression model on the encoded data\n",
    "model = LinearRegression()\n",
    "model.fit(X_train, y_train)"
   ]
  },
  {
   "cell_type": "code",
   "execution_count": 206,
   "id": "8413f1c7",
   "metadata": {},
   "outputs": [
    {
     "name": "stdout",
     "output_type": "stream",
     "text": [
      "Training R^2 score: 0.09004528988909921\n",
      "Testing R^2 score: 0.09051023972881966\n"
     ]
    }
   ],
   "source": [
    "train_score = model.score(X_train, y_train)\n",
    "test_score = model.score(X_test, y_test)\n",
    "\n",
    "print(\"Training R^2 score:\", train_score)\n",
    "print(\"Testing R^2 score:\", test_score)\n",
    "\n",
    "# Where a higher value indicates a better fit of the model to the data."
   ]
  },
  {
   "cell_type": "code",
   "execution_count": 209,
   "id": "feaf5764",
   "metadata": {},
   "outputs": [],
   "source": [
    "#Now we can get the coefficients\n",
    "coefficients = model.coef_\n",
    "intercept = model.intercept_\n"
   ]
  },
  {
   "cell_type": "code",
   "execution_count": null,
   "id": "36984c96",
   "metadata": {},
   "outputs": [],
   "source": [
    "# Here we display all coefficients \n",
    "print(\"Intercept:\", intercept)\n",
    "for i, variable in enumerate(X_encoded.columns):\n",
    "    print(f\"Coefficient for {variable}: {coefficients[i]}\")"
   ]
  },
  {
   "cell_type": "code",
   "execution_count": 208,
   "id": "30b5eec7",
   "metadata": {},
   "outputs": [
    {
     "name": "stdout",
     "output_type": "stream",
     "text": [
      "Intercept: 2.135845681188658\n",
      "Coefficient for Precipitation(in): 6.792733007223905\n",
      "Coefficient for Weather_Condition_Duststorm: 1.0436980068017256\n",
      "Coefficient for Weather_Condition_Heavy Freezing Rain / Windy: 0.8831478132186285\n",
      "Coefficient for Weather_Condition_Heavy Rain Showers: 0.5540486033249822\n",
      "Coefficient for Weather_Condition_Light Blowing Snow: 1.4957657965410265\n",
      "Coefficient for Weather_Condition_Light Fog: 0.8748371419562763\n",
      "Coefficient for Weather_Condition_Light Thunderstorms and Snow: 0.5964881633646048\n",
      "Coefficient for Weather_Condition_Low Drifting Snow: 0.5065451260767083\n",
      "Coefficient for Weather_Condition_Partial Fog / Windy: 0.7249803104391526\n",
      "Coefficient for Weather_Condition_Patches of Fog / Windy: 0.8571163222813762\n",
      "Coefficient for Weather_Condition_Smoke / Windy: 0.6015248298706614\n"
     ]
    }
   ],
   "source": [
    "# We display all coefficients with a high number = high impact on Severity\n",
    "print(\"Intercept:\", intercept)\n",
    "for i, variable in enumerate(X_encoded.columns):\n",
    "    if abs(coefficients[i]) > 0.5:\n",
    "        print(f\"Coefficient for {variable}: {coefficients[i]}\")"
   ]
  },
  {
   "cell_type": "markdown",
   "id": "7d4cc624",
   "metadata": {},
   "source": [
    "As we can see, all bad weather condition have a very positive impact on the Severity of the Accident. Precipitation have a huge impact, which is surprising because we would have though the visibility would be more important. "
   ]
  },
  {
   "cell_type": "code",
   "execution_count": 202,
   "id": "e532e377",
   "metadata": {},
   "outputs": [
    {
     "name": "stdout",
     "output_type": "stream",
     "text": [
      "Intercept: 2.135845681188658\n",
      "Coefficient for Visibility(mi): 0.001437334085750754\n",
      "Coefficient for Crossing: -0.08895824305874929\n",
      "Coefficient for Junction: 0.04371048434002664\n",
      "Coefficient for Station: -0.06475979438496848\n",
      "Coefficient for Weather_Condition_Blowing Dust / Windy: 0.014774943376579225\n",
      "Coefficient for Weather_Condition_Blowing Snow / Windy: -0.07731726798565934\n",
      "Coefficient for Weather_Condition_Blowing Snow Nearby: -8.950073595908628e-05\n",
      "Coefficient for Weather_Condition_Cloudy: 0.06437019316345849\n",
      "Coefficient for Weather_Condition_Cloudy / Windy: 0.06207260793824587\n",
      "Coefficient for Weather_Condition_Drifting Snow: 1.2753686995381486e-14\n",
      "Coefficient for Weather_Condition_Drizzle and Fog: 0.02820502376304456\n",
      "Coefficient for Weather_Condition_Fair: 0.05255321672855007\n",
      "Coefficient for Weather_Condition_Fair / Windy: 0.06381415098772525\n",
      "Coefficient for Weather_Condition_Fog: 0.06831280910811871\n",
      "Coefficient for Weather_Condition_Fog / Windy: -0.008272364184483766\n",
      "Coefficient for Weather_Condition_Freezing Drizzle: -0.00835606653166419\n",
      "Coefficient for Weather_Condition_Freezing Rain: 0.08931401503198988\n",
      "Coefficient for Weather_Condition_Freezing Rain / Windy: 0.0022714207001405004\n",
      "Coefficient for Weather_Condition_Haze / Windy: 0.0016106849233545883\n",
      "Coefficient for Weather_Condition_Heavy Freezing Rain: -0.06007640154660245\n",
      "Coefficient for Weather_Condition_Heavy Rain / Windy: 0.08863268655498677\n",
      "Coefficient for Weather_Condition_Heavy Rain Shower / Windy: -0.05490767993717334\n",
      "Coefficient for Weather_Condition_Heavy Sleet: -0.053151561104039874\n",
      "Coefficient for Weather_Condition_Heavy Snow: 0.07996866415833748\n",
      "Coefficient for Weather_Condition_Heavy Snow / Windy: -0.0152063644579567\n",
      "Coefficient for Weather_Condition_Heavy T-Storm: 0.09672260599683857\n",
      "Coefficient for Weather_Condition_Heavy T-Storm / Windy: 0.07373918251898991\n",
      "Coefficient for Weather_Condition_Light Rain / Windy: 0.07175932266711121\n",
      "Coefficient for Weather_Condition_Light Rain with Thunder: 0.08423099087644989\n",
      "Coefficient for Weather_Condition_Light Sleet: -0.07439016071518703\n",
      "Coefficient for Weather_Condition_Light Sleet / Windy: -0.06908203542755705\n",
      "Coefficient for Weather_Condition_Light Snow: 0.08726059327521707\n",
      "Coefficient for Weather_Condition_Light Snow / Windy: 0.00017809355825870732\n",
      "Coefficient for Weather_Condition_Light Snow Shower: 0.09175147913004872\n",
      "Coefficient for Weather_Condition_Light Snow Shower / Windy: -0.07005638208309628\n",
      "Coefficient for Weather_Condition_Light Snow and Sleet: -0.03625826220062252\n",
      "Coefficient for Weather_Condition_Light Snow and Sleet / Windy: 0.020674312491150128\n",
      "Coefficient for Weather_Condition_Light Snow with Thunder: -0.05014573457297132\n",
      "Coefficient for Weather_Condition_Mist / Windy: -0.08631842121775443\n",
      "Coefficient for Weather_Condition_Mostly Cloudy / Windy: 0.08549419337557929\n",
      "Coefficient for Weather_Condition_N/A Precipitation: 0.021306470496831348\n",
      "Coefficient for Weather_Condition_Partial Fog: -0.031450367095410214\n",
      "Coefficient for Weather_Condition_Partly Cloudy / Windy: 0.0755616779008933\n",
      "Coefficient for Weather_Condition_Rain / Windy: 0.07707951462605951\n",
      "Coefficient for Weather_Condition_Rain and Sleet: 4.884981308350689e-15\n",
      "Coefficient for Weather_Condition_Sand: -0.037418926054710276\n",
      "Coefficient for Weather_Condition_Sand / Dust Whirls Nearby: -0.021274322559388756\n",
      "Coefficient for Weather_Condition_Sand / Dust Whirlwinds / Windy: 0.03271218088470906\n",
      "Coefficient for Weather_Condition_Sand / Windy: 3.1086244689504383e-15\n",
      "Coefficient for Weather_Condition_Shallow Fog: 0.08284890235129364\n",
      "Coefficient for Weather_Condition_Shallow Fog / Windy: -0.01053904521427863\n",
      "Coefficient for Weather_Condition_Showers in the Vicinity: 0.08007338194191418\n",
      "Coefficient for Weather_Condition_Sleet: -0.09549413631161424\n",
      "Coefficient for Weather_Condition_Small Hail: 0.05644856246014908\n",
      "Coefficient for Weather_Condition_Snow: 0.07903574115400125\n",
      "Coefficient for Weather_Condition_Snow / Windy: -0.005916363717527073\n",
      "Coefficient for Weather_Condition_Snow and Sleet: -0.03342920204963083\n",
      "Coefficient for Weather_Condition_Snow and Thunder: -0.04900823520522196\n",
      "Coefficient for Weather_Condition_Squalls: 0.09873921635063096\n",
      "Coefficient for Weather_Condition_T-Storm: 0.09549814566514056\n",
      "Coefficient for Weather_Condition_T-Storm / Windy: 0.07512888676784286\n",
      "Coefficient for Weather_Condition_Thunder: 0.08347684114626841\n",
      "Coefficient for Weather_Condition_Thunder / Wintry Mix: 0.023046285647799734\n",
      "Coefficient for Weather_Condition_Thunder / Wintry Mix / Windy: 0.04849781670702043\n",
      "Coefficient for Weather_Condition_Thunder in the Vicinity: 0.08261935640614393\n",
      "Coefficient for Weather_Condition_Tornado: 0.04626648068808408\n",
      "Coefficient for Weather_Condition_Volcanic Ash: 0.057408910984828115\n",
      "Coefficient for Weather_Condition_Widespread Dust: 0.061241290798596755\n",
      "Coefficient for Weather_Condition_Widespread Dust / Windy: -0.0470484627282816\n",
      "Coefficient for Weather_Condition_Wintry Mix: -0.004385070641942934\n",
      "Coefficient for Weather_Condition_Wintry Mix / Windy: -0.00104784275920735\n",
      "Coefficient for State_AR: 0.04113998478637465\n",
      "Coefficient for State_AZ: -0.07495819604252629\n",
      "Coefficient for State_CA: -0.09734440217794083\n",
      "Coefficient for State_CT: 0.07616548067976976\n",
      "Coefficient for State_DC: -0.0573818762112204\n",
      "Coefficient for State_DE: 0.026871122897696775\n",
      "Coefficient for State_FL: -0.08237533533733343\n",
      "Coefficient for State_ID: -0.0926505746483951\n",
      "Coefficient for State_KS: 0.0663422279518568\n",
      "Coefficient for State_MA: 0.03635884691681168\n",
      "Coefficient for State_MD: 0.07322436361779422\n",
      "Coefficient for State_MI: 0.056561840401066044\n",
      "Coefficient for State_MN: -0.09041212307325552\n",
      "Coefficient for State_MS: 0.07617136442551112\n",
      "Coefficient for State_NC: -0.09453798034799435\n",
      "Coefficient for State_NE: -0.09320359361577943\n",
      "Coefficient for State_NH: -0.051715282419993736\n",
      "Coefficient for State_NJ: -0.03518396451369363\n",
      "Coefficient for State_NV: -0.023141750592872844\n",
      "Coefficient for State_NY: 0.007491029515533598\n",
      "Coefficient for State_OH: 0.08428945083530438\n",
      "Coefficient for State_PA: -0.036138322749768415\n",
      "Coefficient for State_TN: -0.05377826833232724\n",
      "Coefficient for State_TX: -0.029054833008193892\n",
      "Coefficient for State_UT: -0.06888432425629137\n",
      "Coefficient for State_VA: 0.031627063389071536\n",
      "Coefficient for State_WA: 0.07954479528935879\n",
      "Coefficient for State_WV: -0.09554823217571025\n",
      "Coefficient for State_WY: 0.09268852933469814\n"
     ]
    }
   ],
   "source": [
    "# We display all coefficient with a low number = low impact on Severity\n",
    "print(\"Intercept:\", intercept)\n",
    "for i, variable in enumerate(X_encoded.columns):\n",
    "    if abs(coefficients[i]) < 0.1:\n",
    "        print(f\"Coefficient for {variable}: {coefficients[i]}\")"
   ]
  },
  {
   "cell_type": "markdown",
   "id": "f6fb81cf",
   "metadata": {},
   "source": [
    "The results are a bit surprising as we could think visibility could have a bigger impact on the Severity, however it is not the case. A lot of weather condition also have a low impact, but this could be because there is not enought data with all these types of weather. As we can see above, weather does have an impact on the severity. "
   ]
  },
  {
   "cell_type": "code",
   "execution_count": null,
   "id": "fc9b1a62",
   "metadata": {},
   "outputs": [],
   "source": [
    "# Question 5\n",
    "\n"
   ]
  }
 ],
 "metadata": {
  "kernelspec": {
   "display_name": "Python 3 (ipykernel)",
   "language": "python",
   "name": "python3"
  },
  "language_info": {
   "codemirror_mode": {
    "name": "ipython",
    "version": 3
   },
   "file_extension": ".py",
   "mimetype": "text/x-python",
   "name": "python",
   "nbconvert_exporter": "python",
   "pygments_lexer": "ipython3",
   "version": "3.11.5"
  }
 },
 "nbformat": 4,
 "nbformat_minor": 5
}

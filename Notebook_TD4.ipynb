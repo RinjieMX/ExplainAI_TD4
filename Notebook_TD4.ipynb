{
 "cells": [
  {
   "cell_type": "markdown",
   "id": "9f626839",
   "metadata": {},
   "source": [
    "# TD4 - Explainability AI\n",
    "\n",
    "#### Matias OTTENSEN\n",
    "#### Tiphaine KACHKACHI\n",
    "#### Manon GARDIN\n",
    "\n",
    "# Our dataset \n",
    "\n",
    "Petite description du dataset"
   ]
  },
  {
   "cell_type": "code",
   "execution_count": 133,
   "id": "d0540425",
   "metadata": {},
   "outputs": [],
   "source": [
    "import pandas as pd\n",
    "import numpy as np\n",
    "import matplotlib.pyplot as plt\n",
    "import seaborn as sns\n",
    "from datetime import datetime\n",
    "import sklearn\n",
    "from sklearn.datasets import load_diabetes"
   ]
  },
  {
   "cell_type": "code",
   "execution_count": 4,
   "id": "9792d488",
   "metadata": {},
   "outputs": [],
   "source": [
    "df = pd.read_csv('US_Accidents_March23.csv', sep=',')"
   ]
  },
  {
   "cell_type": "markdown",
   "id": "bf0a4042",
   "metadata": {},
   "source": []
  },
  {
   "cell_type": "markdown",
   "id": "2c0f8785",
   "metadata": {},
   "source": [
    "## Observe data"
   ]
  },
  {
   "cell_type": "code",
   "execution_count": 5,
   "id": "9944bc60",
   "metadata": {
    "scrolled": true
   },
   "outputs": [
    {
     "data": {
      "text/plain": [
       "(7728394, 46)"
      ]
     },
     "execution_count": 5,
     "metadata": {},
     "output_type": "execute_result"
    }
   ],
   "source": [
    "df.shape"
   ]
  },
  {
   "cell_type": "markdown",
   "id": "2f5de6ab",
   "metadata": {},
   "source": [
    "We have a great number of lines in our dataset.\\\n",
    "Also we have 46 columns, we probably won't need every one of them. Let's see their name :"
   ]
  },
  {
   "cell_type": "code",
   "execution_count": 6,
   "id": "9cff7c8e",
   "metadata": {
    "scrolled": true
   },
   "outputs": [
    {
     "data": {
      "text/plain": [
       "Index(['ID', 'Source', 'Severity', 'Start_Time', 'End_Time', 'Start_Lat',\n",
       "       'Start_Lng', 'End_Lat', 'End_Lng', 'Distance(mi)', 'Description',\n",
       "       'Street', 'City', 'County', 'State', 'Zipcode', 'Country', 'Timezone',\n",
       "       'Airport_Code', 'Weather_Timestamp', 'Temperature(F)', 'Wind_Chill(F)',\n",
       "       'Humidity(%)', 'Pressure(in)', 'Visibility(mi)', 'Wind_Direction',\n",
       "       'Wind_Speed(mph)', 'Precipitation(in)', 'Weather_Condition', 'Amenity',\n",
       "       'Bump', 'Crossing', 'Give_Way', 'Junction', 'No_Exit', 'Railway',\n",
       "       'Roundabout', 'Station', 'Stop', 'Traffic_Calming', 'Traffic_Signal',\n",
       "       'Turning_Loop', 'Sunrise_Sunset', 'Civil_Twilight', 'Nautical_Twilight',\n",
       "       'Astronomical_Twilight'],\n",
       "      dtype='object')"
      ]
     },
     "execution_count": 6,
     "metadata": {},
     "output_type": "execute_result"
    }
   ],
   "source": [
    "df.columns"
   ]
  },
  {
   "cell_type": "code",
   "execution_count": 7,
   "id": "d4a89213",
   "metadata": {},
   "outputs": [
    {
     "data": {
      "text/html": [
       "<div>\n",
       "<style scoped>\n",
       "    .dataframe tbody tr th:only-of-type {\n",
       "        vertical-align: middle;\n",
       "    }\n",
       "\n",
       "    .dataframe tbody tr th {\n",
       "        vertical-align: top;\n",
       "    }\n",
       "\n",
       "    .dataframe thead th {\n",
       "        text-align: right;\n",
       "    }\n",
       "</style>\n",
       "<table border=\"1\" class=\"dataframe\">\n",
       "  <thead>\n",
       "    <tr style=\"text-align: right;\">\n",
       "      <th></th>\n",
       "      <th>ID</th>\n",
       "      <th>Source</th>\n",
       "      <th>Severity</th>\n",
       "      <th>Start_Time</th>\n",
       "      <th>End_Time</th>\n",
       "      <th>Start_Lat</th>\n",
       "      <th>Start_Lng</th>\n",
       "      <th>End_Lat</th>\n",
       "      <th>End_Lng</th>\n",
       "      <th>Distance(mi)</th>\n",
       "      <th>...</th>\n",
       "      <th>Roundabout</th>\n",
       "      <th>Station</th>\n",
       "      <th>Stop</th>\n",
       "      <th>Traffic_Calming</th>\n",
       "      <th>Traffic_Signal</th>\n",
       "      <th>Turning_Loop</th>\n",
       "      <th>Sunrise_Sunset</th>\n",
       "      <th>Civil_Twilight</th>\n",
       "      <th>Nautical_Twilight</th>\n",
       "      <th>Astronomical_Twilight</th>\n",
       "    </tr>\n",
       "  </thead>\n",
       "  <tbody>\n",
       "    <tr>\n",
       "      <th>0</th>\n",
       "      <td>A-1</td>\n",
       "      <td>Source2</td>\n",
       "      <td>3</td>\n",
       "      <td>2016-02-08 05:46:00</td>\n",
       "      <td>2016-02-08 11:00:00</td>\n",
       "      <td>39.865147</td>\n",
       "      <td>-84.058723</td>\n",
       "      <td>NaN</td>\n",
       "      <td>NaN</td>\n",
       "      <td>0.01</td>\n",
       "      <td>...</td>\n",
       "      <td>False</td>\n",
       "      <td>False</td>\n",
       "      <td>False</td>\n",
       "      <td>False</td>\n",
       "      <td>False</td>\n",
       "      <td>False</td>\n",
       "      <td>Night</td>\n",
       "      <td>Night</td>\n",
       "      <td>Night</td>\n",
       "      <td>Night</td>\n",
       "    </tr>\n",
       "    <tr>\n",
       "      <th>1</th>\n",
       "      <td>A-2</td>\n",
       "      <td>Source2</td>\n",
       "      <td>2</td>\n",
       "      <td>2016-02-08 06:07:59</td>\n",
       "      <td>2016-02-08 06:37:59</td>\n",
       "      <td>39.928059</td>\n",
       "      <td>-82.831184</td>\n",
       "      <td>NaN</td>\n",
       "      <td>NaN</td>\n",
       "      <td>0.01</td>\n",
       "      <td>...</td>\n",
       "      <td>False</td>\n",
       "      <td>False</td>\n",
       "      <td>False</td>\n",
       "      <td>False</td>\n",
       "      <td>False</td>\n",
       "      <td>False</td>\n",
       "      <td>Night</td>\n",
       "      <td>Night</td>\n",
       "      <td>Night</td>\n",
       "      <td>Day</td>\n",
       "    </tr>\n",
       "    <tr>\n",
       "      <th>2</th>\n",
       "      <td>A-3</td>\n",
       "      <td>Source2</td>\n",
       "      <td>2</td>\n",
       "      <td>2016-02-08 06:49:27</td>\n",
       "      <td>2016-02-08 07:19:27</td>\n",
       "      <td>39.063148</td>\n",
       "      <td>-84.032608</td>\n",
       "      <td>NaN</td>\n",
       "      <td>NaN</td>\n",
       "      <td>0.01</td>\n",
       "      <td>...</td>\n",
       "      <td>False</td>\n",
       "      <td>False</td>\n",
       "      <td>False</td>\n",
       "      <td>False</td>\n",
       "      <td>True</td>\n",
       "      <td>False</td>\n",
       "      <td>Night</td>\n",
       "      <td>Night</td>\n",
       "      <td>Day</td>\n",
       "      <td>Day</td>\n",
       "    </tr>\n",
       "    <tr>\n",
       "      <th>3</th>\n",
       "      <td>A-4</td>\n",
       "      <td>Source2</td>\n",
       "      <td>3</td>\n",
       "      <td>2016-02-08 07:23:34</td>\n",
       "      <td>2016-02-08 07:53:34</td>\n",
       "      <td>39.747753</td>\n",
       "      <td>-84.205582</td>\n",
       "      <td>NaN</td>\n",
       "      <td>NaN</td>\n",
       "      <td>0.01</td>\n",
       "      <td>...</td>\n",
       "      <td>False</td>\n",
       "      <td>False</td>\n",
       "      <td>False</td>\n",
       "      <td>False</td>\n",
       "      <td>False</td>\n",
       "      <td>False</td>\n",
       "      <td>Night</td>\n",
       "      <td>Day</td>\n",
       "      <td>Day</td>\n",
       "      <td>Day</td>\n",
       "    </tr>\n",
       "    <tr>\n",
       "      <th>4</th>\n",
       "      <td>A-5</td>\n",
       "      <td>Source2</td>\n",
       "      <td>2</td>\n",
       "      <td>2016-02-08 07:39:07</td>\n",
       "      <td>2016-02-08 08:09:07</td>\n",
       "      <td>39.627781</td>\n",
       "      <td>-84.188354</td>\n",
       "      <td>NaN</td>\n",
       "      <td>NaN</td>\n",
       "      <td>0.01</td>\n",
       "      <td>...</td>\n",
       "      <td>False</td>\n",
       "      <td>False</td>\n",
       "      <td>False</td>\n",
       "      <td>False</td>\n",
       "      <td>True</td>\n",
       "      <td>False</td>\n",
       "      <td>Day</td>\n",
       "      <td>Day</td>\n",
       "      <td>Day</td>\n",
       "      <td>Day</td>\n",
       "    </tr>\n",
       "  </tbody>\n",
       "</table>\n",
       "<p>5 rows × 46 columns</p>\n",
       "</div>"
      ],
      "text/plain": [
       "    ID   Source  Severity           Start_Time             End_Time  \\\n",
       "0  A-1  Source2         3  2016-02-08 05:46:00  2016-02-08 11:00:00   \n",
       "1  A-2  Source2         2  2016-02-08 06:07:59  2016-02-08 06:37:59   \n",
       "2  A-3  Source2         2  2016-02-08 06:49:27  2016-02-08 07:19:27   \n",
       "3  A-4  Source2         3  2016-02-08 07:23:34  2016-02-08 07:53:34   \n",
       "4  A-5  Source2         2  2016-02-08 07:39:07  2016-02-08 08:09:07   \n",
       "\n",
       "   Start_Lat  Start_Lng  End_Lat  End_Lng  Distance(mi)  ... Roundabout  \\\n",
       "0  39.865147 -84.058723      NaN      NaN          0.01  ...      False   \n",
       "1  39.928059 -82.831184      NaN      NaN          0.01  ...      False   \n",
       "2  39.063148 -84.032608      NaN      NaN          0.01  ...      False   \n",
       "3  39.747753 -84.205582      NaN      NaN          0.01  ...      False   \n",
       "4  39.627781 -84.188354      NaN      NaN          0.01  ...      False   \n",
       "\n",
       "  Station   Stop Traffic_Calming Traffic_Signal Turning_Loop Sunrise_Sunset  \\\n",
       "0   False  False           False          False        False          Night   \n",
       "1   False  False           False          False        False          Night   \n",
       "2   False  False           False           True        False          Night   \n",
       "3   False  False           False          False        False          Night   \n",
       "4   False  False           False           True        False            Day   \n",
       "\n",
       "  Civil_Twilight Nautical_Twilight Astronomical_Twilight  \n",
       "0          Night             Night                 Night  \n",
       "1          Night             Night                   Day  \n",
       "2          Night               Day                   Day  \n",
       "3            Day               Day                   Day  \n",
       "4            Day               Day                   Day  \n",
       "\n",
       "[5 rows x 46 columns]"
      ]
     },
     "execution_count": 7,
     "metadata": {},
     "output_type": "execute_result"
    }
   ],
   "source": [
    "df.head()"
   ]
  },
  {
   "cell_type": "code",
   "execution_count": 8,
   "id": "ce8330b2",
   "metadata": {},
   "outputs": [
    {
     "name": "stdout",
     "output_type": "stream",
     "text": [
      "<class 'pandas.core.frame.DataFrame'>\n",
      "RangeIndex: 7728394 entries, 0 to 7728393\n",
      "Data columns (total 46 columns):\n",
      " #   Column                 Dtype  \n",
      "---  ------                 -----  \n",
      " 0   ID                     object \n",
      " 1   Source                 object \n",
      " 2   Severity               int64  \n",
      " 3   Start_Time             object \n",
      " 4   End_Time               object \n",
      " 5   Start_Lat              float64\n",
      " 6   Start_Lng              float64\n",
      " 7   End_Lat                float64\n",
      " 8   End_Lng                float64\n",
      " 9   Distance(mi)           float64\n",
      " 10  Description            object \n",
      " 11  Street                 object \n",
      " 12  City                   object \n",
      " 13  County                 object \n",
      " 14  State                  object \n",
      " 15  Zipcode                object \n",
      " 16  Country                object \n",
      " 17  Timezone               object \n",
      " 18  Airport_Code           object \n",
      " 19  Weather_Timestamp      object \n",
      " 20  Temperature(F)         float64\n",
      " 21  Wind_Chill(F)          float64\n",
      " 22  Humidity(%)            float64\n",
      " 23  Pressure(in)           float64\n",
      " 24  Visibility(mi)         float64\n",
      " 25  Wind_Direction         object \n",
      " 26  Wind_Speed(mph)        float64\n",
      " 27  Precipitation(in)      float64\n",
      " 28  Weather_Condition      object \n",
      " 29  Amenity                bool   \n",
      " 30  Bump                   bool   \n",
      " 31  Crossing               bool   \n",
      " 32  Give_Way               bool   \n",
      " 33  Junction               bool   \n",
      " 34  No_Exit                bool   \n",
      " 35  Railway                bool   \n",
      " 36  Roundabout             bool   \n",
      " 37  Station                bool   \n",
      " 38  Stop                   bool   \n",
      " 39  Traffic_Calming        bool   \n",
      " 40  Traffic_Signal         bool   \n",
      " 41  Turning_Loop           bool   \n",
      " 42  Sunrise_Sunset         object \n",
      " 43  Civil_Twilight         object \n",
      " 44  Nautical_Twilight      object \n",
      " 45  Astronomical_Twilight  object \n",
      "dtypes: bool(13), float64(12), int64(1), object(20)\n",
      "memory usage: 2.0+ GB\n"
     ]
    }
   ],
   "source": [
    "df.info()"
   ]
  },
  {
   "cell_type": "markdown",
   "id": "afc3ef70",
   "metadata": {},
   "source": [
    "As the dataframe is huge (almost 3 gb), we decided to work on another version of this dataframe, just to have a sample that we could work on esier:"
   ]
  },
  {
   "cell_type": "code",
   "execution_count": 10,
   "id": "53c404df",
   "metadata": {},
   "outputs": [
    {
     "name": "stdout",
     "output_type": "stream",
     "text": [
      "(3864197, 46)\n"
     ]
    }
   ],
   "source": [
    "halfsize=int((df.shape[0])/2)\n",
    "df_half= df.iloc[:halfsize,:]\n",
    "print(df_half.shape)\n"
   ]
  },
  {
   "cell_type": "code",
   "execution_count": null,
   "id": "38f0cb8a",
   "metadata": {},
   "outputs": [],
   "source": [
    "\n",
    "\n"
   ]
  },
  {
   "cell_type": "code",
   "execution_count": null,
   "id": "aad310dc",
   "metadata": {},
   "outputs": [],
   "source": []
  },
  {
   "cell_type": "markdown",
   "id": "66bea087",
   "metadata": {},
   "source": [
    "Variables like Street, City, Zipcode and County won't be useful to keep, because there are too many distinct values.\\\n",
    "The columns Bump, Traffic_calming, Turning_loop, Give_Way, No_Exit, Roundabout can be deleted because they take only one value (all false).\\\n",
    "The variable Country only takes US so we can delete it.\\\n",
    "We can also delete some columns like Airport_Code that won't be relevant."
   ]
  },
  {
   "cell_type": "code",
   "execution_count": 11,
   "id": "62f024fa",
   "metadata": {},
   "outputs": [],
   "source": [
    "# Delete the columns we don't need \n",
    "df_half = df_half.drop(['Street', 'City', 'Description','County', 'Zipcode', 'Country', 'Bump', 'Traffic_Calming', 'Turning_Loop', 'Give_Way', 'No_Exit', 'Roundabout', 'Airport_Code'], axis=1)"
   ]
  },
  {
   "cell_type": "code",
   "execution_count": 12,
   "id": "4d2657e1",
   "metadata": {
    "scrolled": true
   },
   "outputs": [
    {
     "data": {
      "text/html": [
       "<div>\n",
       "<style scoped>\n",
       "    .dataframe tbody tr th:only-of-type {\n",
       "        vertical-align: middle;\n",
       "    }\n",
       "\n",
       "    .dataframe tbody tr th {\n",
       "        vertical-align: top;\n",
       "    }\n",
       "\n",
       "    .dataframe thead th {\n",
       "        text-align: right;\n",
       "    }\n",
       "</style>\n",
       "<table border=\"1\" class=\"dataframe\">\n",
       "  <thead>\n",
       "    <tr style=\"text-align: right;\">\n",
       "      <th></th>\n",
       "      <th>ID</th>\n",
       "      <th>Source</th>\n",
       "      <th>Severity</th>\n",
       "      <th>Start_Time</th>\n",
       "      <th>End_Time</th>\n",
       "      <th>Start_Lat</th>\n",
       "      <th>Start_Lng</th>\n",
       "      <th>End_Lat</th>\n",
       "      <th>End_Lng</th>\n",
       "      <th>Distance(mi)</th>\n",
       "      <th>...</th>\n",
       "      <th>Crossing</th>\n",
       "      <th>Junction</th>\n",
       "      <th>Railway</th>\n",
       "      <th>Station</th>\n",
       "      <th>Stop</th>\n",
       "      <th>Traffic_Signal</th>\n",
       "      <th>Sunrise_Sunset</th>\n",
       "      <th>Civil_Twilight</th>\n",
       "      <th>Nautical_Twilight</th>\n",
       "      <th>Astronomical_Twilight</th>\n",
       "    </tr>\n",
       "  </thead>\n",
       "  <tbody>\n",
       "    <tr>\n",
       "      <th>0</th>\n",
       "      <td>A-1</td>\n",
       "      <td>Source2</td>\n",
       "      <td>3</td>\n",
       "      <td>2016-02-08 05:46:00</td>\n",
       "      <td>2016-02-08 11:00:00</td>\n",
       "      <td>39.865147</td>\n",
       "      <td>-84.058723</td>\n",
       "      <td>NaN</td>\n",
       "      <td>NaN</td>\n",
       "      <td>0.01</td>\n",
       "      <td>...</td>\n",
       "      <td>False</td>\n",
       "      <td>False</td>\n",
       "      <td>False</td>\n",
       "      <td>False</td>\n",
       "      <td>False</td>\n",
       "      <td>False</td>\n",
       "      <td>Night</td>\n",
       "      <td>Night</td>\n",
       "      <td>Night</td>\n",
       "      <td>Night</td>\n",
       "    </tr>\n",
       "    <tr>\n",
       "      <th>1</th>\n",
       "      <td>A-2</td>\n",
       "      <td>Source2</td>\n",
       "      <td>2</td>\n",
       "      <td>2016-02-08 06:07:59</td>\n",
       "      <td>2016-02-08 06:37:59</td>\n",
       "      <td>39.928059</td>\n",
       "      <td>-82.831184</td>\n",
       "      <td>NaN</td>\n",
       "      <td>NaN</td>\n",
       "      <td>0.01</td>\n",
       "      <td>...</td>\n",
       "      <td>False</td>\n",
       "      <td>False</td>\n",
       "      <td>False</td>\n",
       "      <td>False</td>\n",
       "      <td>False</td>\n",
       "      <td>False</td>\n",
       "      <td>Night</td>\n",
       "      <td>Night</td>\n",
       "      <td>Night</td>\n",
       "      <td>Day</td>\n",
       "    </tr>\n",
       "    <tr>\n",
       "      <th>2</th>\n",
       "      <td>A-3</td>\n",
       "      <td>Source2</td>\n",
       "      <td>2</td>\n",
       "      <td>2016-02-08 06:49:27</td>\n",
       "      <td>2016-02-08 07:19:27</td>\n",
       "      <td>39.063148</td>\n",
       "      <td>-84.032608</td>\n",
       "      <td>NaN</td>\n",
       "      <td>NaN</td>\n",
       "      <td>0.01</td>\n",
       "      <td>...</td>\n",
       "      <td>False</td>\n",
       "      <td>False</td>\n",
       "      <td>False</td>\n",
       "      <td>False</td>\n",
       "      <td>False</td>\n",
       "      <td>True</td>\n",
       "      <td>Night</td>\n",
       "      <td>Night</td>\n",
       "      <td>Day</td>\n",
       "      <td>Day</td>\n",
       "    </tr>\n",
       "    <tr>\n",
       "      <th>3</th>\n",
       "      <td>A-4</td>\n",
       "      <td>Source2</td>\n",
       "      <td>3</td>\n",
       "      <td>2016-02-08 07:23:34</td>\n",
       "      <td>2016-02-08 07:53:34</td>\n",
       "      <td>39.747753</td>\n",
       "      <td>-84.205582</td>\n",
       "      <td>NaN</td>\n",
       "      <td>NaN</td>\n",
       "      <td>0.01</td>\n",
       "      <td>...</td>\n",
       "      <td>False</td>\n",
       "      <td>False</td>\n",
       "      <td>False</td>\n",
       "      <td>False</td>\n",
       "      <td>False</td>\n",
       "      <td>False</td>\n",
       "      <td>Night</td>\n",
       "      <td>Day</td>\n",
       "      <td>Day</td>\n",
       "      <td>Day</td>\n",
       "    </tr>\n",
       "    <tr>\n",
       "      <th>4</th>\n",
       "      <td>A-5</td>\n",
       "      <td>Source2</td>\n",
       "      <td>2</td>\n",
       "      <td>2016-02-08 07:39:07</td>\n",
       "      <td>2016-02-08 08:09:07</td>\n",
       "      <td>39.627781</td>\n",
       "      <td>-84.188354</td>\n",
       "      <td>NaN</td>\n",
       "      <td>NaN</td>\n",
       "      <td>0.01</td>\n",
       "      <td>...</td>\n",
       "      <td>False</td>\n",
       "      <td>False</td>\n",
       "      <td>False</td>\n",
       "      <td>False</td>\n",
       "      <td>False</td>\n",
       "      <td>True</td>\n",
       "      <td>Day</td>\n",
       "      <td>Day</td>\n",
       "      <td>Day</td>\n",
       "      <td>Day</td>\n",
       "    </tr>\n",
       "    <tr>\n",
       "      <th>5</th>\n",
       "      <td>A-6</td>\n",
       "      <td>Source2</td>\n",
       "      <td>3</td>\n",
       "      <td>2016-02-08 07:44:26</td>\n",
       "      <td>2016-02-08 08:14:26</td>\n",
       "      <td>40.100590</td>\n",
       "      <td>-82.925194</td>\n",
       "      <td>NaN</td>\n",
       "      <td>NaN</td>\n",
       "      <td>0.01</td>\n",
       "      <td>...</td>\n",
       "      <td>False</td>\n",
       "      <td>False</td>\n",
       "      <td>False</td>\n",
       "      <td>False</td>\n",
       "      <td>False</td>\n",
       "      <td>False</td>\n",
       "      <td>Day</td>\n",
       "      <td>Day</td>\n",
       "      <td>Day</td>\n",
       "      <td>Day</td>\n",
       "    </tr>\n",
       "    <tr>\n",
       "      <th>6</th>\n",
       "      <td>A-7</td>\n",
       "      <td>Source2</td>\n",
       "      <td>2</td>\n",
       "      <td>2016-02-08 07:59:35</td>\n",
       "      <td>2016-02-08 08:29:35</td>\n",
       "      <td>39.758274</td>\n",
       "      <td>-84.230507</td>\n",
       "      <td>NaN</td>\n",
       "      <td>NaN</td>\n",
       "      <td>0.00</td>\n",
       "      <td>...</td>\n",
       "      <td>False</td>\n",
       "      <td>False</td>\n",
       "      <td>False</td>\n",
       "      <td>False</td>\n",
       "      <td>False</td>\n",
       "      <td>False</td>\n",
       "      <td>Day</td>\n",
       "      <td>Day</td>\n",
       "      <td>Day</td>\n",
       "      <td>Day</td>\n",
       "    </tr>\n",
       "    <tr>\n",
       "      <th>7</th>\n",
       "      <td>A-8</td>\n",
       "      <td>Source2</td>\n",
       "      <td>3</td>\n",
       "      <td>2016-02-08 07:59:58</td>\n",
       "      <td>2016-02-08 08:29:58</td>\n",
       "      <td>39.770382</td>\n",
       "      <td>-84.194901</td>\n",
       "      <td>NaN</td>\n",
       "      <td>NaN</td>\n",
       "      <td>0.01</td>\n",
       "      <td>...</td>\n",
       "      <td>False</td>\n",
       "      <td>False</td>\n",
       "      <td>False</td>\n",
       "      <td>False</td>\n",
       "      <td>False</td>\n",
       "      <td>False</td>\n",
       "      <td>Day</td>\n",
       "      <td>Day</td>\n",
       "      <td>Day</td>\n",
       "      <td>Day</td>\n",
       "    </tr>\n",
       "    <tr>\n",
       "      <th>8</th>\n",
       "      <td>A-9</td>\n",
       "      <td>Source2</td>\n",
       "      <td>2</td>\n",
       "      <td>2016-02-08 08:00:40</td>\n",
       "      <td>2016-02-08 08:30:40</td>\n",
       "      <td>39.778061</td>\n",
       "      <td>-84.172005</td>\n",
       "      <td>NaN</td>\n",
       "      <td>NaN</td>\n",
       "      <td>0.00</td>\n",
       "      <td>...</td>\n",
       "      <td>False</td>\n",
       "      <td>False</td>\n",
       "      <td>False</td>\n",
       "      <td>False</td>\n",
       "      <td>False</td>\n",
       "      <td>False</td>\n",
       "      <td>Day</td>\n",
       "      <td>Day</td>\n",
       "      <td>Day</td>\n",
       "      <td>Day</td>\n",
       "    </tr>\n",
       "    <tr>\n",
       "      <th>9</th>\n",
       "      <td>A-10</td>\n",
       "      <td>Source2</td>\n",
       "      <td>3</td>\n",
       "      <td>2016-02-08 08:10:04</td>\n",
       "      <td>2016-02-08 08:40:04</td>\n",
       "      <td>40.100590</td>\n",
       "      <td>-82.925194</td>\n",
       "      <td>NaN</td>\n",
       "      <td>NaN</td>\n",
       "      <td>0.01</td>\n",
       "      <td>...</td>\n",
       "      <td>False</td>\n",
       "      <td>False</td>\n",
       "      <td>False</td>\n",
       "      <td>False</td>\n",
       "      <td>False</td>\n",
       "      <td>False</td>\n",
       "      <td>Day</td>\n",
       "      <td>Day</td>\n",
       "      <td>Day</td>\n",
       "      <td>Day</td>\n",
       "    </tr>\n",
       "  </tbody>\n",
       "</table>\n",
       "<p>10 rows × 33 columns</p>\n",
       "</div>"
      ],
      "text/plain": [
       "     ID   Source  Severity           Start_Time             End_Time  \\\n",
       "0   A-1  Source2         3  2016-02-08 05:46:00  2016-02-08 11:00:00   \n",
       "1   A-2  Source2         2  2016-02-08 06:07:59  2016-02-08 06:37:59   \n",
       "2   A-3  Source2         2  2016-02-08 06:49:27  2016-02-08 07:19:27   \n",
       "3   A-4  Source2         3  2016-02-08 07:23:34  2016-02-08 07:53:34   \n",
       "4   A-5  Source2         2  2016-02-08 07:39:07  2016-02-08 08:09:07   \n",
       "5   A-6  Source2         3  2016-02-08 07:44:26  2016-02-08 08:14:26   \n",
       "6   A-7  Source2         2  2016-02-08 07:59:35  2016-02-08 08:29:35   \n",
       "7   A-8  Source2         3  2016-02-08 07:59:58  2016-02-08 08:29:58   \n",
       "8   A-9  Source2         2  2016-02-08 08:00:40  2016-02-08 08:30:40   \n",
       "9  A-10  Source2         3  2016-02-08 08:10:04  2016-02-08 08:40:04   \n",
       "\n",
       "   Start_Lat  Start_Lng  End_Lat  End_Lng  Distance(mi)  ... Crossing  \\\n",
       "0  39.865147 -84.058723      NaN      NaN          0.01  ...    False   \n",
       "1  39.928059 -82.831184      NaN      NaN          0.01  ...    False   \n",
       "2  39.063148 -84.032608      NaN      NaN          0.01  ...    False   \n",
       "3  39.747753 -84.205582      NaN      NaN          0.01  ...    False   \n",
       "4  39.627781 -84.188354      NaN      NaN          0.01  ...    False   \n",
       "5  40.100590 -82.925194      NaN      NaN          0.01  ...    False   \n",
       "6  39.758274 -84.230507      NaN      NaN          0.00  ...    False   \n",
       "7  39.770382 -84.194901      NaN      NaN          0.01  ...    False   \n",
       "8  39.778061 -84.172005      NaN      NaN          0.00  ...    False   \n",
       "9  40.100590 -82.925194      NaN      NaN          0.01  ...    False   \n",
       "\n",
       "  Junction Railway  Station   Stop  Traffic_Signal  Sunrise_Sunset  \\\n",
       "0    False   False    False  False           False           Night   \n",
       "1    False   False    False  False           False           Night   \n",
       "2    False   False    False  False            True           Night   \n",
       "3    False   False    False  False           False           Night   \n",
       "4    False   False    False  False            True             Day   \n",
       "5    False   False    False  False           False             Day   \n",
       "6    False   False    False  False           False             Day   \n",
       "7    False   False    False  False           False             Day   \n",
       "8    False   False    False  False           False             Day   \n",
       "9    False   False    False  False           False             Day   \n",
       "\n",
       "   Civil_Twilight Nautical_Twilight  Astronomical_Twilight  \n",
       "0           Night             Night                  Night  \n",
       "1           Night             Night                    Day  \n",
       "2           Night               Day                    Day  \n",
       "3             Day               Day                    Day  \n",
       "4             Day               Day                    Day  \n",
       "5             Day               Day                    Day  \n",
       "6             Day               Day                    Day  \n",
       "7             Day               Day                    Day  \n",
       "8             Day               Day                    Day  \n",
       "9             Day               Day                    Day  \n",
       "\n",
       "[10 rows x 33 columns]"
      ]
     },
     "execution_count": 12,
     "metadata": {},
     "output_type": "execute_result"
    }
   ],
   "source": [
    "df_half.head(10)"
   ]
  },
  {
   "cell_type": "code",
   "execution_count": 13,
   "id": "fbffd1d5",
   "metadata": {
    "scrolled": true
   },
   "outputs": [
    {
     "data": {
      "text/plain": [
       "<bound method DataFrame.info of                 ID   Source  Severity           Start_Time  \\\n",
       "0              A-1  Source2         3  2016-02-08 05:46:00   \n",
       "1              A-2  Source2         2  2016-02-08 06:07:59   \n",
       "2              A-3  Source2         2  2016-02-08 06:49:27   \n",
       "3              A-4  Source2         3  2016-02-08 07:23:34   \n",
       "4              A-5  Source2         2  2016-02-08 07:39:07   \n",
       "...            ...      ...       ...                  ...   \n",
       "3864192  A-3893182  Source1         2  2022-06-01 12:09:00   \n",
       "3864193  A-3893183  Source1         2  2022-04-13 16:38:44   \n",
       "3864194  A-3893184  Source1         2  2023-01-19 12:10:00   \n",
       "3864195  A-3893185  Source1         2  2022-03-09 08:34:00   \n",
       "3864196  A-3893186  Source1         2  2022-02-12 20:32:00   \n",
       "\n",
       "                    End_Time  Start_Lat  Start_Lng    End_Lat    End_Lng  \\\n",
       "0        2016-02-08 11:00:00  39.865147 -84.058723        NaN        NaN   \n",
       "1        2016-02-08 06:37:59  39.928059 -82.831184        NaN        NaN   \n",
       "2        2016-02-08 07:19:27  39.063148 -84.032608        NaN        NaN   \n",
       "3        2016-02-08 07:53:34  39.747753 -84.205582        NaN        NaN   \n",
       "4        2016-02-08 08:09:07  39.627781 -84.188354        NaN        NaN   \n",
       "...                      ...        ...        ...        ...        ...   \n",
       "3864192  2022-06-01 14:13:48  25.890733 -80.163416  25.889397 -80.162943   \n",
       "3864193  2022-04-13 17:17:09  25.892058 -80.163016  25.889378 -80.163301   \n",
       "3864194  2023-01-19 12:24:00  33.928899 -81.286179  33.936749 -81.272250   \n",
       "3864195  2022-03-09 09:03:00  40.165874 -79.089752  40.170224 -79.109359   \n",
       "3864196  2022-02-12 21:27:00  41.296846 -72.703689  41.296816 -72.754689   \n",
       "\n",
       "         Distance(mi)  ... Crossing Junction Railway  Station   Stop  \\\n",
       "0               0.010  ...    False    False   False    False  False   \n",
       "1               0.010  ...    False    False   False    False  False   \n",
       "2               0.010  ...    False    False   False    False  False   \n",
       "3               0.010  ...    False    False   False    False  False   \n",
       "4               0.010  ...    False    False   False    False  False   \n",
       "...               ...  ...      ...      ...     ...      ...    ...   \n",
       "3864192         0.097  ...     True    False   False    False  False   \n",
       "3864193         0.186  ...    False    False   False     True  False   \n",
       "3864194         0.965  ...    False    False   False    False  False   \n",
       "3864195         1.078  ...    False    False   False    False  False   \n",
       "3864196         2.647  ...    False    False   False    False  False   \n",
       "\n",
       "         Traffic_Signal  Sunrise_Sunset  Civil_Twilight Nautical_Twilight  \\\n",
       "0                 False           Night           Night             Night   \n",
       "1                 False           Night           Night             Night   \n",
       "2                  True           Night           Night               Day   \n",
       "3                 False           Night             Day               Day   \n",
       "4                  True             Day             Day               Day   \n",
       "...                 ...             ...             ...               ...   \n",
       "3864192           False             Day             Day               Day   \n",
       "3864193           False             Day             Day               Day   \n",
       "3864194           False             Day             Day               Day   \n",
       "3864195           False             Day             Day               Day   \n",
       "3864196           False           Night           Night             Night   \n",
       "\n",
       "         Astronomical_Twilight  \n",
       "0                        Night  \n",
       "1                          Day  \n",
       "2                          Day  \n",
       "3                          Day  \n",
       "4                          Day  \n",
       "...                        ...  \n",
       "3864192                    Day  \n",
       "3864193                    Day  \n",
       "3864194                    Day  \n",
       "3864195                    Day  \n",
       "3864196                  Night  \n",
       "\n",
       "[3864197 rows x 33 columns]>"
      ]
     },
     "execution_count": 13,
     "metadata": {},
     "output_type": "execute_result"
    }
   ],
   "source": [
    "df_half.info"
   ]
  },
  {
   "cell_type": "markdown",
   "id": "3ea6db7b",
   "metadata": {},
   "source": [
    "# Question 3\n",
    "\n",
    "The variables we can predict are probably the severity of an accident, and maybe a start time.\n",
    "\n",
    "Based on our intuition, we think that the most important variables to predict the severity of an accident would be the weather condition variables like Humidity, Wind Speed, Pressure, etc. And probably the time of the day like Day or Night.\n",
    "\n",
    "## Univariate Analysis"
   ]
  },
  {
   "cell_type": "code",
   "execution_count": 14,
   "id": "b9d05f41",
   "metadata": {
    "scrolled": true
   },
   "outputs": [
    {
     "data": {
      "text/plain": [
       "<bound method NDFrame.describe of                 ID   Source  Severity           Start_Time  \\\n",
       "0              A-1  Source2         3  2016-02-08 05:46:00   \n",
       "1              A-2  Source2         2  2016-02-08 06:07:59   \n",
       "2              A-3  Source2         2  2016-02-08 06:49:27   \n",
       "3              A-4  Source2         3  2016-02-08 07:23:34   \n",
       "4              A-5  Source2         2  2016-02-08 07:39:07   \n",
       "...            ...      ...       ...                  ...   \n",
       "3864192  A-3893182  Source1         2  2022-06-01 12:09:00   \n",
       "3864193  A-3893183  Source1         2  2022-04-13 16:38:44   \n",
       "3864194  A-3893184  Source1         2  2023-01-19 12:10:00   \n",
       "3864195  A-3893185  Source1         2  2022-03-09 08:34:00   \n",
       "3864196  A-3893186  Source1         2  2022-02-12 20:32:00   \n",
       "\n",
       "                    End_Time  Start_Lat  Start_Lng    End_Lat    End_Lng  \\\n",
       "0        2016-02-08 11:00:00  39.865147 -84.058723        NaN        NaN   \n",
       "1        2016-02-08 06:37:59  39.928059 -82.831184        NaN        NaN   \n",
       "2        2016-02-08 07:19:27  39.063148 -84.032608        NaN        NaN   \n",
       "3        2016-02-08 07:53:34  39.747753 -84.205582        NaN        NaN   \n",
       "4        2016-02-08 08:09:07  39.627781 -84.188354        NaN        NaN   \n",
       "...                      ...        ...        ...        ...        ...   \n",
       "3864192  2022-06-01 14:13:48  25.890733 -80.163416  25.889397 -80.162943   \n",
       "3864193  2022-04-13 17:17:09  25.892058 -80.163016  25.889378 -80.163301   \n",
       "3864194  2023-01-19 12:24:00  33.928899 -81.286179  33.936749 -81.272250   \n",
       "3864195  2022-03-09 09:03:00  40.165874 -79.089752  40.170224 -79.109359   \n",
       "3864196  2022-02-12 21:27:00  41.296846 -72.703689  41.296816 -72.754689   \n",
       "\n",
       "         Distance(mi)  ... Crossing Junction Railway  Station   Stop  \\\n",
       "0               0.010  ...    False    False   False    False  False   \n",
       "1               0.010  ...    False    False   False    False  False   \n",
       "2               0.010  ...    False    False   False    False  False   \n",
       "3               0.010  ...    False    False   False    False  False   \n",
       "4               0.010  ...    False    False   False    False  False   \n",
       "...               ...  ...      ...      ...     ...      ...    ...   \n",
       "3864192         0.097  ...     True    False   False    False  False   \n",
       "3864193         0.186  ...    False    False   False     True  False   \n",
       "3864194         0.965  ...    False    False   False    False  False   \n",
       "3864195         1.078  ...    False    False   False    False  False   \n",
       "3864196         2.647  ...    False    False   False    False  False   \n",
       "\n",
       "         Traffic_Signal  Sunrise_Sunset  Civil_Twilight Nautical_Twilight  \\\n",
       "0                 False           Night           Night             Night   \n",
       "1                 False           Night           Night             Night   \n",
       "2                  True           Night           Night               Day   \n",
       "3                 False           Night             Day               Day   \n",
       "4                  True             Day             Day               Day   \n",
       "...                 ...             ...             ...               ...   \n",
       "3864192           False             Day             Day               Day   \n",
       "3864193           False             Day             Day               Day   \n",
       "3864194           False             Day             Day               Day   \n",
       "3864195           False             Day             Day               Day   \n",
       "3864196           False           Night           Night             Night   \n",
       "\n",
       "         Astronomical_Twilight  \n",
       "0                        Night  \n",
       "1                          Day  \n",
       "2                          Day  \n",
       "3                          Day  \n",
       "4                          Day  \n",
       "...                        ...  \n",
       "3864192                    Day  \n",
       "3864193                    Day  \n",
       "3864194                    Day  \n",
       "3864195                    Day  \n",
       "3864196                  Night  \n",
       "\n",
       "[3864197 rows x 33 columns]>"
      ]
     },
     "execution_count": 14,
     "metadata": {},
     "output_type": "execute_result"
    }
   ],
   "source": [
    "df_half.describe"
   ]
  },
  {
   "cell_type": "markdown",
   "id": "df34784a",
   "metadata": {},
   "source": [
    "# Data Cleaning"
   ]
  },
  {
   "cell_type": "markdown",
   "id": "5b5b7fa2",
   "metadata": {},
   "source": [
    "Missing values:"
   ]
  },
  {
   "cell_type": "code",
   "execution_count": 117,
   "id": "4a0e774c",
   "metadata": {
    "scrolled": true
   },
   "outputs": [
    {
     "name": "stdout",
     "output_type": "stream",
     "text": [
      "ID                             0\n",
      "Source                         0\n",
      "Severity                       0\n",
      "Start_Time                     0\n",
      "End_Time                       0\n",
      "Start_Lat                      0\n",
      "Start_Lng                      0\n",
      "End_Lat                        0\n",
      "End_Lng                        0\n",
      "Distance(mi)                   0\n",
      "Description                    0\n",
      "Street                         0\n",
      "City                           0\n",
      "County                         0\n",
      "State                          0\n",
      "Zipcode                        0\n",
      "Country                        0\n",
      "Timezone                       0\n",
      "Airport_Code                   0\n",
      "Weather_Timestamp              0\n",
      "Temperature(F)                 0\n",
      "Wind_Chill(F)                  0\n",
      "Humidity(%)                    0\n",
      "Pressure(in)              140679\n",
      "Visibility(mi)            177098\n",
      "Wind_Direction            175206\n",
      "Wind_Speed(mph)           571233\n",
      "Precipitation(in)        2203586\n",
      "Weather_Condition         173459\n",
      "Amenity                        0\n",
      "Bump                           0\n",
      "Crossing                       0\n",
      "Give_Way                       0\n",
      "Junction                       0\n",
      "No_Exit                        0\n",
      "Railway                        0\n",
      "Roundabout                     0\n",
      "Station                        0\n",
      "Stop                           0\n",
      "Traffic_Calming                0\n",
      "Traffic_Signal                 0\n",
      "Turning_Loop                   0\n",
      "Sunrise_Sunset             23246\n",
      "Civil_Twilight             23246\n",
      "Nautical_Twilight          23246\n",
      "Astronomical_Twilight      23246\n",
      "dtype: int64\n"
     ]
    }
   ],
   "source": [
    "print(df.isnull().sum())"
   ]
  },
  {
   "cell_type": "markdown",
   "id": "ae6993b4",
   "metadata": {},
   "source": [
    "\n"
   ]
  },
  {
   "cell_type": "markdown",
   "id": "d9ec92e4",
   "metadata": {},
   "source": [
    "There are missing values, so, what can we do about it?"
   ]
  },
  {
   "cell_type": "markdown",
   "id": "23672a5a",
   "metadata": {},
   "source": [
    "First, we create a new dataframe to secure the first one if we ever delete the wring values"
   ]
  },
  {
   "cell_type": "code",
   "execution_count": 42,
   "id": "ed408d15",
   "metadata": {},
   "outputs": [],
   "source": [
    "newdf= df"
   ]
  },
  {
   "cell_type": "markdown",
   "id": "2d56c038",
   "metadata": {},
   "source": [
    " "
   ]
  },
  {
   "cell_type": "code",
   "execution_count": 130,
   "id": "a32df239",
   "metadata": {},
   "outputs": [],
   "source": [
    "#for the end lat/lng : we will fill the NAN by the start lat/lng:\n",
    "\n",
    "newdf['End_Lat']=newdf['End_Lat'].fillna(newdf['Start_Lat'])\n",
    "newdf['End_Lng']=newdf['End_Lng'].fillna(newdf['Start_Lng'])\n",
    "\n",
    "#for the streets/Cities/Description/zipcode/timezone/Weather_Condition/Sunrise_Sunset/Civil_Twilight/Nautical_Twilight\n",
    "#and Astronomical_Twilight, we just write \"unknown\", \n",
    "#as we do not want to give fake infoomations to the person reading\n",
    "\n",
    "newdf['Street']=newdf['Street'].fillna('unknown')\n",
    "newdf['City']=newdf['City'].fillna('unknown')\n",
    "newdf['Description']=newdf['Description'].fillna('unknown')\n",
    "newdf['Zipcode']=newdf['Zipcode'].fillna('unknown')\n",
    "newdf['Timezone']=newdf['Timezone'].fillna('unknown')\n",
    "newdf['Weather_Condition']=newdf['Weather_Condition'].fillna('unknown')\n",
    "newdf['Sunrise_Sunset']=newdf['Sunrise_Sunset'].fillna('unknown')\n",
    "newdf['Civil_Twilight']=newdf['Civil_Twilight'].fillna('unknown')\n",
    "newdf['Nautical_Twilight']=newdf['Weather_Condition'].fillna('unknown')\n",
    "newdf['Astronomical_Twilight']=newdf['Astronomical_Twilight'].fillna('unknown')\n",
    "\n",
    "\n",
    "\n",
    "# for the airport code, we write '####' in the missing values\n",
    "newdf['Airport_Code']=newdf['Airport_Code'].fillna('####')\n",
    "\n",
    "\n",
    "# for the weather timestamp, we put now's date\n",
    "newdf['Weather_Timestamp']=newdf['Weather_Timestamp'].fillna(datetime.now())\n",
    "\n",
    "#for the temperature, we need to convert the data, as it is an object type :\n",
    "newdf['Temperature(F)'] = pd.to_numeric(newdf['Temperature(F)'], errors='coerce')\n",
    "#temperature/Wind_Chill(F)/Humidity(%)/Pressure(in)/Visibility(mi)/Wind_Speed(mph)/Precipitation(in): we put the mean\n",
    "newdf['Temperature(F)']=newdf['Temperature(F)'].fillna(newdf['Temperature(F)'].mean())\n",
    "newdf['Wind_Chill(F)']=newdf['Wind_Chill(F)'].fillna(newdf['Wind_Chill(F)'].mean())\n",
    "newdf['Humidity(%)']=newdf['Humidity(%)'].fillna(newdf['Humidity(%)'].mean())\n",
    "newdf['Pressure(in)']=newdf['Pressure(in)'].fillna(newdf['Pressure(in)'].mean())\n",
    "newdf['Visibility(mi)']=newdf['Visibility(mi)'].fillna(newdf['Visibility(mi)'].mean())\n",
    "newdf['Wind_Speed(mph)']=newdf['Wind_Speed(mph)'].fillna(newdf['Wind_Speed(mph)'].mean())\n",
    "newdf['Precipitation(in)']=newdf['Precipitation(in)'].fillna(newdf['Precipitation(in)'].mean())\n",
    "\n",
    "\n",
    "# for the airport code, we write '###' in the missing values\n",
    "newdf['Wind_Direction']=newdf['Wind_Direction'].fillna('###')\n",
    "\n",
    "\n"
   ]
  },
  {
   "cell_type": "code",
   "execution_count": 142,
   "id": "0c0510c7",
   "metadata": {},
   "outputs": [
    {
     "name": "stdout",
     "output_type": "stream",
     "text": [
      "ID                       0\n",
      "Source                   0\n",
      "Severity                 0\n",
      "Start_Time               0\n",
      "End_Time                 0\n",
      "Start_Lat                0\n",
      "Start_Lng                0\n",
      "End_Lat                  0\n",
      "End_Lng                  0\n",
      "Distance(mi)             0\n",
      "Description              0\n",
      "Street                   0\n",
      "City                     0\n",
      "County                   0\n",
      "State                    0\n",
      "Zipcode                  0\n",
      "Country                  0\n",
      "Timezone                 0\n",
      "Airport_Code             0\n",
      "Weather_Timestamp        0\n",
      "Temperature(F)           0\n",
      "Wind_Chill(F)            0\n",
      "Humidity(%)              0\n",
      "Pressure(in)             0\n",
      "Visibility(mi)           0\n",
      "Wind_Direction           0\n",
      "Wind_Speed(mph)          0\n",
      "Precipitation(in)        0\n",
      "Weather_Condition        0\n",
      "Amenity                  0\n",
      "Bump                     0\n",
      "Crossing                 0\n",
      "Give_Way                 0\n",
      "Junction                 0\n",
      "No_Exit                  0\n",
      "Railway                  0\n",
      "Roundabout               0\n",
      "Station                  0\n",
      "Stop                     0\n",
      "Traffic_Calming          0\n",
      "Traffic_Signal           0\n",
      "Turning_Loop             0\n",
      "Sunrise_Sunset           0\n",
      "Civil_Twilight           0\n",
      "Nautical_Twilight        0\n",
      "Astronomical_Twilight    0\n",
      "dtype: int64\n"
     ]
    }
   ],
   "source": [
    "print(newdf.isnull().sum())"
   ]
  },
  {
   "cell_type": "code",
   "execution_count": 151,
   "id": "210bc0c4",
   "metadata": {},
   "outputs": [
    {
     "data": {
      "image/png": "[encoded data removed]",
      "text/plain": [
       "<Figure size 2000x500 with 4 Axes>"
      ]
     },
     "metadata": {},
     "output_type": "display_data"
    }
   ],
   "source": [
    "fig, axes = plt.subplots(nrows=1, ncols=4, figsize=(20, 5))"
   ]
  },
  {
   "cell_type": "code",
   "execution_count": 160,
   "id": "a9e943b7",
   "metadata": {},
   "outputs": [
    {
     "data": {
      "text/plain": [
       "<Axes: >"
      ]
     },
     "execution_count": 160,
     "metadata": {},
     "output_type": "execute_result"
    },
    {
     "data": {
      "image/png": "[encoded data removed]",
      "text/plain": [
       "<Figure size 640x480 with 1 Axes>"
      ]
     },
     "metadata": {},
     "output_type": "display_data"
    }
   ],
   "source": [
    "sns.boxplot(newdf['Visibility(mi)'])"
   ]
  },
  {
   "cell_type": "markdown",
   "id": "b5ce3273",
   "metadata": {},
   "source": [
    "Looks like there is a lot of outliers, so we decide to replace some outliers withe the mean value"
   ]
  },
  {
   "cell_type": "code",
   "execution_count": 157,
   "id": "d326bfb9",
   "metadata": {},
   "outputs": [
    {
     "data": {
      "text/plain": [
       "<Axes: >"
      ]
     },
     "execution_count": 157,
     "metadata": {},
     "output_type": "execute_result"
    },
    {
     "data": {
      "image/png": "[encoded data removed]",
      "text/plain": [
       "<Figure size 640x480 with 1 Axes>"
      ]
     },
     "metadata": {},
     "output_type": "display_data"
    }
   ],
   "source": [
    "moyenne_colonne = df['Visibility(mi)'].mean()\n",
    "\n",
    "df.loc[df['Visibility(mi)'] > 20, 'Visibility(mi)'] = moyenne_colonne\n",
    "\n",
    "df.loc[df['Visibility(mi)'] < 5, 'Visibility(mi)'] = moyenne_colonne\n",
    "\n",
    "sns.boxplot(newdf['Visibility(mi)'])"
   ]
  },
  {
   "cell_type": "markdown",
   "id": "6b1dfc8f",
   "metadata": {},
   "source": [
    "As we can see, actually, there is a huge amount of \"10\" values, so the other values are more rare, but are not outliers for this, so we can keep the data this way for this one "
   ]
  },
  {
   "cell_type": "code",
   "execution_count": null,
   "id": "d3a4180d",
   "metadata": {},
   "outputs": [],
   "source": [
    "Q1= newdf['Visibility(mi)'].quantile(0.25)\n",
    "print(Q1)\n",
    "Q3= newdf['Visibility(mi)'].quantile(0.75)\n",
    "print(Q3)\n",
    "IQR = Q3 - Q1\n",
    "print(IQR)"
   ]
  },
  {
   "cell_type": "markdown",
   "id": "61aaf18a",
   "metadata": {},
   "source": [
    "# CONTINUE HERE \n",
    "ce qu'il y a en bas c'est la suite, ce qu'il faudra faire après le data cleaning "
   ]
  },
  {
   "cell_type": "code",
   "execution_count": null,
   "id": "b08cd9ba",
   "metadata": {},
   "outputs": [],
   "source": []
  },
  {
   "cell_type": "code",
   "execution_count": null,
   "id": "0c2105f0",
   "metadata": {},
   "outputs": [],
   "source": []
  },
  {
   "cell_type": "code",
   "execution_count": null,
   "id": "e81eccee",
   "metadata": {},
   "outputs": [],
   "source": []
  },
  {
   "cell_type": "code",
   "execution_count": null,
   "id": "372b8312",
   "metadata": {},
   "outputs": [],
   "source": []
  },
  {
   "cell_type": "markdown",
   "id": "9f3f3d41",
   "metadata": {},
   "source": [
    "Let's do a histogram"
   ]
  },
  {
   "cell_type": "code",
   "execution_count": 35,
   "id": "e0235171",
   "metadata": {},
   "outputs": [
    {
     "data": {
      "text/plain": [
       "966049"
      ]
     },
     "execution_count": 35,
     "metadata": {},
     "output_type": "execute_result"
    }
   ],
   "source": [
    "halfsize2=int((df_half.shape[0])/4)\n",
    "df_half2= df.iloc[:halfsize2,:]\n",
    "\n",
    "df_half2.shape[0]"
   ]
  },
  {
   "cell_type": "code",
   "execution_count": 36,
   "id": "243eaee7",
   "metadata": {},
   "outputs": [
    {
     "data": {
      "text/plain": [
       "(array([ 38375.,      0.,      0., 584192.,      0.,      0., 340664.,\n",
       "             0.,      0.,   2818.]),\n",
       " array([1. , 1.3, 1.6, 1.9, 2.2, 2.5, 2.8, 3.1, 3.4, 3.7, 4. ]),\n",
       " <BarContainer object of 10 artists>)"
      ]
     },
     "execution_count": 36,
     "metadata": {},
     "output_type": "execute_result"
    },
    {
     "data": {
      "image/png": "[encoded data removed]",
      "text/plain": [
       "<Figure size 640x480 with 1 Axes>"
      ]
     },
     "metadata": {},
     "output_type": "display_data"
    }
   ],
   "source": [
    "plt.hist(df_half2['Severity'])"
   ]
  },
  {
   "cell_type": "code",
   "execution_count": 158,
   "id": "d9e1d27c",
   "metadata": {},
   "outputs": [],
   "source": [
    "#plt.hist(df_half2['Sunrise_Sunset'])"
   ]
  },
  {
   "cell_type": "code",
   "execution_count": 159,
   "id": "60353d93",
   "metadata": {},
   "outputs": [],
   "source": [
    "#plt.scatter(df.index,df['Start_Time'])\n",
    "#plt.show()"
   ]
  },
  {
   "cell_type": "code",
   "execution_count": null,
   "id": "fcbf6878",
   "metadata": {},
   "outputs": [],
   "source": []
  }
 ],
 "metadata": {
  "kernelspec": {
   "display_name": "Python 3 (ipykernel)",
   "language": "python",
   "name": "python3"
  },
  "language_info": {
   "codemirror_mode": {
    "name": "ipython",
    "version": 3
   },
   "file_extension": ".py",
   "mimetype": "text/x-python",
   "name": "python",
   "nbconvert_exporter": "python",
   "pygments_lexer": "ipython3",
   "version": "3.11.5"
  }
 },
 "nbformat": 4,
 "nbformat_minor": 5
}
